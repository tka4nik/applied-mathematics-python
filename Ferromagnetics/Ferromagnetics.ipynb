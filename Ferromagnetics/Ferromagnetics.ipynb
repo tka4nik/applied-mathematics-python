{
 "cells": [
  {
   "cell_type": "markdown",
   "id": "b698fd64-2a72-4c31-868c-dd8ada50e242",
   "metadata": {},
   "source": [
    "# Энергия ферромагнетика 2D (2023)"
   ]
  },
  {
   "cell_type": "markdown",
   "id": "fe9d5632-1d5c-428a-9b1d-5bcfdb58cb72",
   "metadata": {},
   "source": [
    "### Условие задачи\n",
    "\n",
    "**Дано:**\n",
    "- двумерная решетка молекул, расположенных в узлах кристаллической решетки, размеров $L_x \\times L_y$ с периодическими границами\n",
    "- каждая молекула обладает спином +1 или -1\n",
    "- межмолекулярное взаимодействие описывается константами $J_{ij} = 1$\n",
    "- модель Изинга\n",
    "\n",
    "\n",
    "**Требуется:**\n",
    "- согласно модели Изинга рассчитать нормированное значение средней энергии $\\frac{\\langle E \\rangle}{Lx Ly}$ для указанной решетки молекул при:\n",
    "    - размерах решетки $L_x \\in [2, 3, ..., 8]$, $L_y = 4$\n",
    "    - температурах $kT \\in [1.0, 5.0)$ с шагом $0.1$\n",
    "- сохранить массив средних энергий при помощи `np.save`\n",
    "- вывести время расчета каждой итерации по $Lx$ или по $k T$\n",
    "- отобразить цветовую карту:\n",
    "    - ось абсцисс - $L_x$,\n",
    "    - ось ординат - $k T$,\n",
    "    - цветом отобразить нормированное значение средней энергии $\\frac{\\langle E \\rangle}{Lx Ly}$,\n",
    "    - подписать оси,\n",
    "    - отобразить цветовую шкалу (`colorbar`),\n",
    "    - засечки должны соответствовать значениям $Lx, kT$.\n",
    "- к каждой функции добавить `docstring` с описанием того, что функция делает, всех параметров и возвращаемого значения    \n",
    "\n",
    "**Описание:**\n",
    "\n",
    "**Одномерный случай**\n",
    "\n",
    "Модель Изинга является моделью магнетика. Пусть этот магнетик состоит из молекул, расположенных в узлах регулярной решетки. Пусть всего таких узлов будет $N$ штук, с индексами $i=1,\\ldots, N$.\n",
    "\n",
    "Предположим, что каждая молекула может быть представлена в виде магнитной стрелки, которая всегда либо направлена вдоль некоторой заданной оси, либо в противоположном направлении. То есть каждая молекула $i$ имеет две конфигурации, которые можно описывать с помощью \"спиновой\" переменной $\\sigma_i$. Эта переменная принимает значение $+1$ (параллельно оси, спин направлен вверх) и $-1$ (антипараллельно оси, спин направлен вниз).\n",
    "\n",
    "Пусть $\\sigma = \\{\\sigma_1, \\sigma_2, \\ldots, \\sigma_N\\}$ обозначает набор значений всех $N$ спинов. Имеется $2^N$ различных наборов $\\sigma$, и каждый из них описывает некоторое состояние системы. \n",
    "\n",
    "Гамильтониан системы  состоит из двух частей: первая $E_0$ включает вклад межмолекулярных сил внутри магнетика, а вторая $E_1(\\sigma)$ вклад от взаимодействий каждого спина с внешним магнитным полем (здесь считается нулевым). \n",
    "$$H(\\sigma)=E_0(\\sigma)+E_1(\\sigma)$$\n",
    "\n",
    "В любой физической системе мы предполагаем все взаимодействия инвариантными по отношению к обращению времени, что означает инвариантность $E$ при изменении знаков всех полей и намагниченностей. Энергия должна быть четной функцией от $\\sigma$:\n",
    "$$E_0(\\sigma_1,\\ldots, \\sigma_N)=E_0(-\\sigma_1,\\ldots, -\\sigma_N)$$\n",
    "\n",
    "Энергия системы при нулевом внешнем магнитном поле равна сумме произведений **соседних** спинов на константы взаимодействия $J_{ij}$\n",
    "$$E(\\sigma) = -\\sum_{i} J_{i,i+1}\\sigma_{i}\\sigma_{i+1} $$\n",
    "\n",
    "Вероятность находиться в состоянии $\\sigma$\n",
    "$$P(\\sigma)=\\frac{e^{-\\beta E(\\sigma)}}{Z},$$\n",
    "где $Z = \\sum_{\\sigma} e^{-\\beta E(\\sigma)}-$ статистическая сумма, $\\beta = \\frac{1}{k T}-$ обратная температура, $k-$ константа Больцмана.\n",
    "\t\n",
    "Средняя энергия системы \n",
    "$$\\langle E \\rangle = \\frac{1}{Z}\\sum_{\\{\\sigma \\}} E(\\sigma)e^{-\\frac{E(\\sigma)}{kT}}$$\n",
    "рассчитывается по всевозможным состояниям системы, т.е. всевозможным наборам $\\sigma$.\n",
    "\n",
    "**Двумерный случай**\n",
    "\n",
    "В случае двумерной решетки энергия системы при нулевом внешнем магнитном поле вычисляется следующим образом: \n",
    "$$E(\\sigma) = -\\sum_{i,j} J_{ij}(\\sigma_{i,j}\\sigma_{i+1,j} + \\sigma_{i,j}\\sigma_{i,j+1})$$\n",
    "\n",
    "\n",
    "**Проверка корректности результатов**\n",
    "\n",
    "Нормированное значение средней энергии при температурах $kT \\in [1.0, 5.0)$:\n",
    "\n",
    "- для $L_x=4$\n",
    "\n",
    "```\n",
    " -1.99715844 -1.99396091 -1.98856632 -1.98016965 -1.96786355 -1.95064256\n",
    " -1.9274244  -1.89711215 -1.85871667 -1.81153907 -1.75538029 -1.69071311\n",
    " -1.61874282 -1.54131149 -1.46065977 -1.37911648 -1.29880759 -1.22145424\n",
    " -1.14828469 -1.0800446  -1.01706963 -0.95938399 -0.90679838 -0.85899291\n",
    " -0.8155803  -0.77615005 -0.74029707 -0.70763857 -0.67782287 -0.65053286\n",
    " -0.62548613 -0.60243323 -0.58115501 -0.56145948 -0.5431787  -0.52616582\n",
    " -0.5102923  -0.49544555 -0.48152673 -0.46844889\n",
    "```\n",
    "\n",
    "- для $L_x=5$\n",
    "\n",
    "```\n",
    " -1.99715893 -1.99396296 -1.98857263 -1.98018387 -1.96788363 -1.95063964\n",
    " -1.92729692 -1.89661121 -1.85735639 -1.80853133 -1.74965024 -1.68103752\n",
    " -1.60399878 -1.52075577 -1.43412763 -1.3470633  -1.26219309 -1.18153361\n",
    " -1.10638872 -1.03740747 -0.97472647 -0.918132   -0.86720255 -0.82141645\n",
    " -0.78022445 -0.74309384 -0.70953215 -0.67909749 -0.65140075 -0.62610332\n",
    " -0.60291264 -0.58157686 -0.56187952 -0.54363452 -0.52668165 -0.51088271\n",
    " -0.49611811 -0.48228409 -0.46929029 -0.45705774\n",
    "```\n",
    "\n",
    "**Материалы:**\n",
    "- [Бэкстер Р., Вольский Е. П., Дайхин Л. И. Точно решаемые модели в статистической механике](https://yadi.sk/i/2oY4c0bL08pNiw)\n",
    "- [Пример хорошего `docstring`](https://github.com/numpy/numpy/blob/v1.21.0/numpy/linalg/linalg.py#L313-L395)\n",
    "- [Зиннуров Б.Д., Якименко В.Я. Магнитные свойства модели Изинга в низких размерностях (МКР)](https://miem.hse.ru/data/2018/05/24/1149431665/model_Izinga_-_Zinnurov_Yakimenko.pdf)\n",
    "\n",
    "\n",
    "**Правила оценивания:**\n",
    "\n",
    "- оценка за корректно выполненный расчет для количества молекул в цепочке $L_x$, баллов из 100:\n",
    "```\n",
    "    Lx    =   2,   3,   4,   5,    6,    7,     8\n",
    "    g(Lx) = 1.0, 1.8, 3.3, 6.4, 12.6, 24.9,  50.0\n",
    "```\n",
    "    \n",
    "- штрафы $p(i)$, баллов:\n",
    "    - не выведено время расчета - 20\n",
    "    - не выведены значения средней энергии - 20\n",
    "    - не построена карта - 20\n",
    "    - отсутствует `docstring` - 20\n",
    "    - менее значимые недоработки - 10\n",
    "\n",
    "\n",
    "- итоговая оценка за задание = $\\sum_{Lx=2}^{8}{g(Lx)} - \\sum_{i}{p(i)}$\n"
   ]
  },
  {
   "cell_type": "code",
   "execution_count": 10,
   "outputs": [],
   "source": [
    "import numpy as np\n",
    "from numba import njit, prange\n",
    "import matplotlib.pyplot as plt"
   ],
   "metadata": {
    "collapsed": false,
    "ExecuteTime": {
     "end_time": "2024-01-27T13:28:42.258052639Z",
     "start_time": "2024-01-27T13:28:42.216841116Z"
    }
   }
  },
  {
   "cell_type": "code",
   "execution_count": 11,
   "outputs": [],
   "source": [
    "@njit\n",
    "def calculate_energy(sigma_array: np.ndarray) -> int:\n",
    "    \"\"\"\n",
    "    Calculates energy of the system in the absence of an external magnetic field, for a 2d array.\n",
    "    :param sigma_array: 2d array of spins, consisting from 1s and -1s\n",
    "    :return: Energy of the system.\n",
    "    \"\"\"\n",
    "    energy = 0\n",
    "    for i in range(-1, len(sigma_array) - 1):\n",
    "        for j in range(-1, len(sigma_array[0]) - 1):\n",
    "            energy -= sigma_array[i][j] * sigma_array[i + 1][j] + sigma_array[i][j] * sigma_array[i][j + 1]\n",
    "    return energy"
   ],
   "metadata": {
    "collapsed": false,
    "ExecuteTime": {
     "end_time": "2024-01-27T13:28:47.432133841Z",
     "start_time": "2024-01-27T13:28:47.420597529Z"
    }
   }
  },
  {
   "cell_type": "code",
   "execution_count": 12,
   "outputs": [],
   "source": [
    "@njit\n",
    "def int_to_sigma_array(number: int, L: int) -> np.ndarray:\n",
    "    \"\"\"\n",
    "    Converts number in base10 - unique state of the system - into a base2-ish array of 1s and -1s\n",
    "    :param number: int - coded state of the system, reprensets sigma array\n",
    "    :param L: length of the sigma array\n",
    "    :return: sigma_array\n",
    "    \"\"\"\n",
    "    sigma_array = np.empty(L, dtype=np.int8)\n",
    "    for i in range(L):\n",
    "        sigma_array[i] = (number & 1) * 2 - 1   # bitwise \"and\" that converts base10 int into base2, but with a shift to convert the int into 1s and -1s instead of 0s and 1s\n",
    "        number = number >> 1\n",
    "    return sigma_array"
   ],
   "metadata": {
    "collapsed": false,
    "ExecuteTime": {
     "end_time": "2024-01-27T13:28:48.048867602Z",
     "start_time": "2024-01-27T13:28:48.038326877Z"
    }
   }
  },
  {
   "cell_type": "code",
   "execution_count": 4,
   "outputs": [],
   "source": [
    "@njit(parallel=True)\n",
    "def calculate_mean_energy(Lx: int, Ly: int, kt_list: np.array) -> np.array:\n",
    "    \"\"\"\n",
    "    Computes the mean energy at fixed length and different temperatures.\n",
    "    :param Lx, Ly: Length and Width of the sigma matrix\n",
    "    :param kt_list: Array of temperatures\n",
    "    :return: Array of normalized average energy values.\n",
    "    \"\"\"\n",
    "    mean_statistical_sum = np.zeros(kt_list.size, dtype=float)\n",
    "    mean_energy = np.zeros(kt_list.size, dtype=float)\n",
    "\n",
    "    for N in prange(2 ** (Lx * Ly)): # Cycle through each possible state of sigmas, represented by a base10 int\n",
    "        sigma = int_to_sigma_array(N, Lx * Ly).reshape(Lx, Ly)\n",
    "        energy = calculate_energy(sigma)\n",
    "        exp = np.exp(-energy / kt_list)\n",
    "        mean_energy += energy * exp\n",
    "        mean_statistical_sum += exp\n",
    "\n",
    "    mean_energy /= (mean_statistical_sum * (Lx * Ly))\n",
    "    return mean_energy"
   ],
   "metadata": {
    "collapsed": false,
    "ExecuteTime": {
     "end_time": "2024-01-27T13:18:02.676228066Z",
     "start_time": "2024-01-27T13:18:02.668213780Z"
    }
   }
  },
  {
   "cell_type": "code",
   "execution_count": 5,
   "outputs": [
    {
     "name": "stdout",
     "output_type": "stream",
     "text": [
      "Calculating for Lx=2...\n",
      "3.61 s ± 0 ns per loop (mean ± std. dev. of 1 run, 1 loop each)\n",
      "Calculating for Lx=3...\n",
      "943 µs ± 0 ns per loop (mean ± std. dev. of 1 run, 1 loop each)\n",
      "Calculating for Lx=4...\n",
      "3.62 ms ± 0 ns per loop (mean ± std. dev. of 1 run, 1 loop each)\n",
      "Calculating for Lx=5...\n",
      "56.4 ms ± 0 ns per loop (mean ± std. dev. of 1 run, 1 loop each)\n",
      "Calculating for Lx=6...\n",
      "953 ms ± 0 ns per loop (mean ± std. dev. of 1 run, 1 loop each)\n",
      "Calculating for Lx=7...\n",
      "15.7 s ± 0 ns per loop (mean ± std. dev. of 1 run, 1 loop each)\n",
      "Calculating for Lx=8...\n",
      "4min 16s ± 0 ns per loop (mean ± std. dev. of 1 run, 1 loop each)\n"
     ]
    }
   ],
   "source": [
    "Lx_list = np.arange(2, 9)\n",
    "Ly = 4\n",
    "kt_list = np.arange(1.0, 5.0, 0.1)\n",
    "\n",
    "mean_energy_list = np.empty((Lx_list.size, kt_list.size))\n",
    "for i in range(Lx_list.size):\n",
    "    print(f\"Calculating for Lx={Lx_list[i]}...\")\n",
    "    %timeit -t -r 1 -n 1 mean_energy_list[i] = calculate_mean_energy(Lx_list[i], Ly, kt_list)\n",
    "\n",
    "with open(f'tmp/data.npy', 'wb') as data:\n",
    "    np.save(data, np.transpose(mean_energy_list))"
   ],
   "metadata": {
    "collapsed": false,
    "ExecuteTime": {
     "end_time": "2024-01-27T13:22:51.822145601Z",
     "start_time": "2024-01-27T13:18:15.295050709Z"
    }
   }
  },
  {
   "cell_type": "code",
   "execution_count": 8,
   "outputs": [
    {
     "name": "stdout",
     "output_type": "stream",
     "text": [
      "Lx == 4:\n",
      "[-1.99715844 -1.99396091 -1.98856632 -1.98016965 -1.96786355 -1.95064256\n",
      " -1.9274244  -1.89711215 -1.85871667 -1.81153907 -1.75538029 -1.69071311\n",
      " -1.61874282 -1.54131149 -1.46065977 -1.37911648 -1.29880759 -1.22145424\n",
      " -1.14828469 -1.0800446  -1.01706963 -0.95938399 -0.90679838 -0.85899291\n",
      " -0.8155803  -0.77615005 -0.74029707 -0.70763857 -0.67782287 -0.65053286\n",
      " -0.62548613 -0.60243323 -0.58115501 -0.56145948 -0.5431787  -0.52616582\n",
      " -0.5102923  -0.49544555 -0.48152673 -0.46844889]\n",
      "Check if calculated results matches with the provided test case: True\n",
      "\n",
      "Lx == 5:\n",
      "[-1.99715893 -1.99396296 -1.98857263 -1.98018387 -1.96788363 -1.95063964\n",
      " -1.92729692 -1.89661121 -1.85735639 -1.80853133 -1.74965024 -1.68103752\n",
      " -1.60399878 -1.52075577 -1.43412763 -1.3470633  -1.26219309 -1.18153361\n",
      " -1.10638872 -1.03740747 -0.97472647 -0.918132   -0.86720255 -0.82141645\n",
      " -0.78022445 -0.74309384 -0.70953215 -0.67909749 -0.65140075 -0.62610332\n",
      " -0.60291264 -0.58157686 -0.56187952 -0.54363452 -0.52668165 -0.51088271\n",
      " -0.49611811 -0.48228409 -0.46929029 -0.45705774]\n",
      "Check if calculated results matches with the provided test case: True\n"
     ]
    }
   ],
   "source": [
    "\n",
    "test_array_L4 = np.array([-1.99715844, -1.99396091, -1.98856632, -1.98016965, -1.96786355, -1.95064256, -1.9274244,  -1.89711215, -1.85871667, -1.81153907, -1.75538029, -1.69071311,\n",
    " -1.61874282, -1.54131149, -1.46065977, -1.37911648, -1.29880759, -1.22145424,\n",
    " -1.14828469, -1.0800446,  -1.01706963, -0.95938399, -0.90679838, -0.85899291,\n",
    " -0.8155803,  -0.77615005, -0.74029707, -0.70763857, -0.67782287, -0.65053286,\n",
    " -0.62548613, -0.60243323, -0.58115501, -0.56145948, -0.5431787,  -0.52616582,\n",
    " -0.5102923,  -0.49544555, -0.48152673, -0.46844889])\n",
    "\n",
    "test_array_L5 = np.array([-1.99715893, -1.99396296, -1.98857263, -1.98018387, -1.96788363, -1.95063964, -1.92729692, -1.89661121, -1.85735639, -1.80853133, -1.74965024, -1.68103752,\n",
    " -1.60399878, -1.52075577, -1.43412763, -1.3470633,  -1.26219309, -1.18153361,\n",
    " -1.10638872, -1.03740747, -0.97472647, -0.918132,   -0.86720255, -0.82141645,\n",
    " -0.78022445, -0.74309384, -0.70953215, -0.67909749, -0.65140075, -0.62610332,\n",
    " -0.60291264, -0.58157686, -0.56187952, -0.54363452, -0.52668165, -0.51088271,\n",
    " -0.49611811, -0.48228409, -0.46929029, -0.45705774])\n",
    "\n",
    "with open(f'tmp/data.npy', 'rb') as data:\n",
    "    mean_energy = np.transpose(np.load(data))\n",
    "    print(\"Lx == 4:\")\n",
    "    print(mean_energy[2])\n",
    "    print(f\"Check if calculated results matches with the provided test case: {np.allclose(mean_energy[2], test_array_L4)}\")\n",
    "    print(\"\\nLx == 5:\")\n",
    "    print(mean_energy[3])\n",
    "    print(f\"Check if calculated results matches with the provided test case: {np.allclose(mean_energy[3], test_array_L5)}\")\n"
   ],
   "metadata": {
    "collapsed": false,
    "ExecuteTime": {
     "end_time": "2024-01-27T13:25:08.952068732Z",
     "start_time": "2024-01-27T13:25:08.946246763Z"
    }
   }
  },
  {
   "cell_type": "code",
   "execution_count": 9,
   "outputs": [
    {
     "data": {
      "text/plain": "<Figure size 640x480 with 2 Axes>",
      "image/png": "[encoded data removed]"
     },
     "metadata": {},
     "output_type": "display_data"
    }
   ],
   "source": [
    "with open(f'tmp/data.npy', 'rb') as data:\n",
    "    mean_energy = np.load(data)\n",
    "    plt.pcolormesh(Lx_list, kt_list, mean_energy, cmap=\"plasma\")\n",
    "    plt.xticks(Lx_list, fontsize=10)\n",
    "    plt.yticks(kt_list[::5], fontsize=10)\n",
    "    plt.xlabel('Lx')\n",
    "    plt.ylabel('kT')\n",
    "    plt.colorbar()\n",
    "    plt.show()"
   ],
   "metadata": {
    "collapsed": false,
    "ExecuteTime": {
     "end_time": "2024-01-27T13:25:10.032421333Z",
     "start_time": "2024-01-27T13:25:09.841148699Z"
    }
   }
  }
 ],
 "metadata": {
  "kernelspec": {
   "display_name": "Python 3 (ipykernel)",
   "language": "python",
   "name": "python3"
  },
  "language_info": {
   "codemirror_mode": {
    "name": "ipython",
    "version": 3
   },
   "file_extension": ".py",
   "mimetype": "text/x-python",
   "name": "python",
   "nbconvert_exporter": "python",
   "pygments_lexer": "ipython3",
   "version": "3.10.5"
  }
 },
 "nbformat": 4,
 "nbformat_minor": 5
}
