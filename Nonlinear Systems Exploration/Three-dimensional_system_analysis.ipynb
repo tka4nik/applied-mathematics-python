{
 "cells": [
  {
   "cell_type": "code",
   "execution_count": 38,
   "source": [
    "import numpy as np\n",
    "import matplotlib.pyplot as plt\n",
    "\n",
    "max_x = 2.0\n",
    "max_y = 2.0\n",
    "n = 50\n",
    "\n",
    "x_range = np.linspace(-max_x, max_x, n)\n",
    "y_range = np.linspace(-max_y, max_y, n)\n",
    "x_grid, y_grid = np.meshgrid(x_range, y_range)\n",
    "t = 0"
   ],
   "metadata": {
    "collapsed": false,
    "ExecuteTime": {
     "end_time": "2024-02-19T19:54:40.307750680Z",
     "start_time": "2024-02-19T19:54:40.299633517Z"
    }
   },
   "outputs": []
  },
  {
   "cell_type": "code",
   "execution_count": 39,
   "source": [
    "def phase_portret(x_grid, y_grid):\n",
    "    nx = x_grid.shape\n",
    "    ny = y_grid.shape\n",
    "    u, v = np.zeros(nx), np.zeros(ny)\n",
    "\n",
    "    for i in range(nx[0]):\n",
    "        for j in range(ny[0]):\n",
    "            x = x_grid[i, j]\n",
    "            y = y_grid[i, j]\n",
    "            derivative_vector = function([x, y], t)\n",
    "            u[i, j] = derivative_vector[0]\n",
    "            v[i, j] = derivative_vector[1]\n",
    "    return [x_grid, y_grid, u, v]\n"
   ],
   "metadata": {
    "collapsed": false,
    "ExecuteTime": {
     "end_time": "2024-02-19T19:54:40.494114520Z",
     "start_time": "2024-02-19T19:54:40.491571529Z"
    }
   },
   "outputs": []
  },
  {
   "cell_type": "code",
   "execution_count": 40,
   "source": [
    "from scipy.integrate import odeint\n",
    "\n",
    "def function(p, t):\n",
    "    a = 0.5\n",
    "    x, y = p\n",
    "    return y, x-(1+a*np.cos(2*t)*y)*x**3\n",
    "\n",
    "# plt.xlim([-max_x, max_x])\n",
    "# plt.ylim([-max_y, max_y])\n",
    "# plt.title(\"Phase Portrait for system x\\\" = x^3 - x \")\n",
    "# plt.xlabel(\"x\")\n",
    "# plt.ylabel(\"y\")\n",
    "# plt.legend(['solution trajectory', 'strart', 'finish', 'fixed point'],  loc=\"best\")\n",
    "plt.streamplot(*phase_portret(x_grid, y_grid), color='grey')"
   ],
   "metadata": {
    "collapsed": false,
    "ExecuteTime": {
     "end_time": "2024-02-19T19:54:42.794106278Z",
     "start_time": "2024-02-19T19:54:42.391602189Z"
    }
   },
   "outputs": []
  },
  {
   "cell_type": "code",
   "execution_count": 170,
   "source": [
    "def plot_phase_portret(x_grid, y_grid, function, a):\n",
    "    nx = x_grid.shape\n",
    "    ny = y_grid.shape\n",
    "    u, v = np.zeros(nx), np.zeros(ny)\n",
    "\n",
    "    for i in range(nx[0]):\n",
    "        for j in range(ny[0]):\n",
    "            x = x_grid[i, j]\n",
    "            y = y_grid[i, j]\n",
    "            derivative_vector = function([x, y], t, a)\n",
    "            print(derivative_vector)\n",
    "            u[i, j] = derivative_vector[0]\n",
    "            v[i, j] = derivative_vector[1]\n",
    "    return [x_grid, y_grid, u, v]\n",
    "\n",
    "\n",
    "a_array = np.arange(0, 0.6, 0.1)\n",
    "\n",
    "def function(p, t, a):\n",
    "    x, y = p\n",
    "    return y, x-(1+a*np.cos(2)*y)*x**3\n",
    "\n",
    "\n",
    "for a in a_array:\n",
    "    plt.figure()\n",
    "    plt.streamplot(*plot_phase_portret(x_grid, y_grid, function, a), color='grey')\n",
    "    plt.title(f\"Phase portret for m={a}\")\n",
    "    plt.xlabel(\"x\")\n",
    "    plt.xlabel(\"y\")\n",
    "plt.show()"
   ],
   "metadata": {
    "collapsed": false,
    "ExecuteTime": {
     "end_time": "2024-02-20T07:55:30.320279412Z",
     "start_time": "2024-02-20T07:55:27.472743343Z"
    }
   },
   "outputs": []
  },
  {
   "cell_type": "code",
   "execution_count": 64,
   "source": [
    "fig, ax = plt.subplots(figsize=(6, 6))\n",
    "t = np.arange(0, 200 * np.pi, np.pi)\n",
    "\n",
    "def function(p, t):\n",
    "    a = 0.5\n",
    "    x, y, z = p\n",
    "    return y, x-(1+a*np.cos(z)*y)*x**3, 2\n",
    "\n",
    "xs = odeint(function, [2, 2], t)\n",
    "\n",
    "x = xs[1]\n",
    "y = xs[2]\n",
    "\n",
    "ax.scatter(x, y, color='blue', s=0.1)\n",
    "plt.xlabel('x', fontsize=15)\n",
    "plt.ylabel('y', fontsize=15)\n",
    "plt.tick_params(labelsize=15)\n",
    "plt.title('The Poincare section')\n",
    "\n",
    "plt.show()"
   ],
   "metadata": {
    "collapsed": false,
    "ExecuteTime": {
     "end_time": "2024-02-19T21:13:36.085919571Z",
     "start_time": "2024-02-19T21:13:35.830025805Z"
    }
   },
   "outputs": []
  },
  {
   "cell_type": "markdown",
   "source": [],
   "metadata": {
    "collapsed": false
   }
  },
  {
   "cell_type": "code",
   "execution_count": 221,
   "source": [
    "a = 0.5\n",
    "\n",
    "def function(p, t):\n",
    "    x,y,z = p\n",
    "    return y, x-(1+a*np.cos(z)*y)*x**3, 2\n",
    "\n",
    "def integrate(p0, t_range):\n",
    "    return odeint(function, p0, t_range, atol=1e-10, rtol=1e-11)\n",
    "\n",
    "def find_crosssections(x0,y0, z0):\n",
    "    u0 = [x0,y0,z0]\n",
    "    px = []\n",
    "    py = []\n",
    "\n",
    "    u = integrate(u0, np.arange(0, 4000, 0.1))\n",
    "    u = ((u+np.pi/2) % np.pi)-np.pi/2\n",
    "    # print(u)\n",
    "    x,y,z = u.T\n",
    "\n",
    "    for k in range(len(z)-1):\n",
    "        if z[k] <= z0 <= z[k + 1] and z[k + 1]-z[k] < np.pi / 2:\n",
    "            px.append(x[k])\n",
    "            py.append(y[k])\n",
    "    return px,py\n",
    "\n",
    "x0 = (-2, 4, 1)\n",
    "plt.scatter(*find_crosssections(*x0),s=0.7, color='black')\n",
    "plt.title(f\"Piancare section for {a=}, x0={x0[:-1]}, z=const={x0[-1]}\")\n",
    "plt.xlabel(\"x\")\n",
    "plt.xlabel(\"y\")"
   ],
   "metadata": {
    "collapsed": false,
    "ExecuteTime": {
     "end_time": "2024-02-20T08:32:11.795011145Z",
     "start_time": "2024-02-20T08:32:11.643415551Z"
    }
   },
   "outputs": []
  },
  {
   "cell_type": "code",
   "execution_count": 222,
   "source": [
    "from celluloid import Camera\n",
    "\n",
    "a = 0.5\n",
    "camera = Camera(plt.figure())\n",
    "for z in np.arange(-1.6,1,0.01):\n",
    "    x0 = [-2, 4, z]\n",
    "    plt.scatter(*find_crosssectio\n",
    "    ns(*x0),s=0.7, color='black')\n",
    "    camera.snap()\n",
    "plt.title(f\"a=0.5, -1.62<=z<=1.6\")\n",
    "anim = camera.animate(blit=True)\n",
    "anim.save('scatter2.mp4')"
   ],
   "metadata": {
    "collapsed": false,
    "ExecuteTime": {
     "end_time": "2024-02-20T08:39:00.187419630Z",
     "start_time": "2024-02-20T08:32:40.367262224Z"
    }
   },
   "outputs": []
  },
  {
   "cell_type": "code",
   "execution_count": 97,
   "source": [
    "a = 0.5\n",
    "def diff_Lorenz(u):\n",
    "    x,y,z = u\n",
    "    f = [y, x-(1+0.5*np.cos(z)*y)*x**3, 2]\n",
    "    Df = [[0,1,0],[1-3*(x**2)*(a*y*np.cos(z)+1),-a*(x**3)*np.cos(z),a*(x**3)*y*np.sin(z)],[0,0,0]]\n",
    "    return np.array(f), np.array(Df)\n",
    "\n",
    "\n",
    "def LEC_system(u):\n",
    "    #x,y,z = u[:3]             # n=3\n",
    "    U = u[3:12].reshape([3,3]) # size n square matrix, sub-array from n to n+n*n=n*(n+1)\n",
    "    L = u[12:15]               # vector, sub-array from n*(n+1) to n*(n+1)+n=n*(n+2)\n",
    "    f,Df = diff_Lorenz(u[:3])\n",
    "    A = U.T.dot(Df.dot(U))\n",
    "    dL = np.diag(A).copy();\n",
    "    for i in range(3):\n",
    "        A[i,i] = 0\n",
    "        for j in range(i+1,3): A[i,j] = -A[j,i]\n",
    "    dU = U.dot(A)\n",
    "    return np.concatenate([f,dU.flatten(),dL])\n",
    "\n",
    "u0 = np.ones(3)\n",
    "U0 = np.identity(3)\n",
    "L0 = np.zeros(3)\n",
    "u0 = np.concatenate([u0, U0.flatten(), L0])\n",
    "t = np.linspace(0,200,501)\n",
    "u = odeint(lambda u,t:LEC_system(u),u0,t, hmax=0.05)\n",
    "L = u[5:,12:15].T/t[5:]\n",
    "\n",
    "plt.plot(t[5:],L.T)"
   ],
   "metadata": {
    "collapsed": false,
    "ExecuteTime": {
     "end_time": "2024-02-19T13:33:54.775195122Z",
     "start_time": "2024-02-19T13:33:54.388301047Z"
    }
   },
   "outputs": []
  },
  {
   "cell_type": "code",
   "execution_count": 181,
   "source": [
    "import numpy as np\n",
    "from scipy.integrate import solve_ivp\n",
    "import matplotlib.pyplot as plt\n",
    "\n",
    "# Define the system of ODEs\n",
    "def ode_system(t, variables, a):\n",
    "    x, y, z = variables\n",
    "    dxdt = y\n",
    "    dydt = x-(1+a*np.cos(z)*y)*x**3\n",
    "    dzdt = 2\n",
    "    return [dxdt, dydt, dzdt]\n",
    "\n",
    "# Initial conditions\n",
    "initial_conditions = [-1.5, 0.5, 0]\n",
    "\n",
    "# Parameter value\n",
    "a = 0.5\n",
    "\n",
    "# Time span\n",
    "t_span = (0, 100)\n",
    "\n",
    "# Solve the system numerically\n",
    "sol = solve_ivp(\n",
    "    fun=lambda t, y: ode_system(t, y, a),\n",
    "    t_span=t_span,\n",
    "    y0=initial_conditions,\n",
    "    method='RK45',\n",
    "    dense_output=True\n",
    ")\n",
    "\n",
    "# Extract the solution\n",
    "t = np.linspace(t_span[0], t_span[1], 1000)\n",
    "solution = sol.sol(t)\n",
    "\n",
    "# Plot the phase portrait\n",
    "plt.plot(solution[0], solution[1])\n",
    "plt.xlabel('x')\n",
    "plt.ylabel('y')\n",
    "plt.title(f'Phase Portrait for {a=}, x0={initial_conditions}')\n",
    "plt.show()\n"
   ],
   "metadata": {
    "collapsed": false,
    "ExecuteTime": {
     "end_time": "2024-02-20T08:03:08.813905435Z",
     "start_time": "2024-02-20T08:03:08.695241471Z"
    }
   },
   "outputs": []
  },
  {
   "cell_type": "code",
   "execution_count": 55,
   "source": [
    "\n",
    "# Function to find Poincare section points\n",
    "def find_poincare_section_points(solution, T):\n",
    "    points = []\n",
    "    for i in range(len(solution[2])-1):\n",
    "        if abs(solution[2][i] - T) <= 3/100:\n",
    "            points.append(i)\n",
    "    return points\n",
    "\n",
    "# Initial conditions\n",
    "initial_conditions = [-1.5,1, 0]\n",
    "\n",
    "# Parameter value\n",
    "w_value = 1\n",
    "\n",
    "# Time span\n",
    "t_span = (0, 100)\n",
    "\n",
    "# Solve the system numerically\n",
    "sol = solve_ivp(\n",
    "    fun=lambda t, y: ode_system(t, y, w_value),\n",
    "    t_span=t_span,\n",
    "    y0=initial_conditions,\n",
    "    method='RK45',\n",
    "    dense_output=True\n",
    ")\n",
    "\n",
    "# Extract the solution\n",
    "t = np.linspace(t_span[0], t_span[1], 1000)\n",
    "solution = sol.sol(t)\n",
    "\n",
    "# Find Poincare section points\n",
    "T = np.pi\n",
    "poincare_points = find_poincare_section_points(solution, T)\n",
    "\n",
    "# Plot Poincare section\n",
    "plt.plot(solution[0][poincare_points], solution[1][poincare_points], 'o', markersize=7, color='pink')\n",
    "plt.xlabel('x')\n",
    "plt.ylabel('y')\n",
    "plt.title('Poincare Section')\n",
    "plt.show()\n"
   ],
   "metadata": {
    "collapsed": false,
    "ExecuteTime": {
     "end_time": "2024-02-19T20:06:37.832383338Z",
     "start_time": "2024-02-19T20:06:37.685004830Z"
    }
   },
   "outputs": []
  },
  {
   "cell_type": "code",
   "execution_count": 71,
   "source": [
    "import numpy as np\n",
    "from scipy.integrate import odeint\n",
    "\n",
    "def ode_system(u, t, a):\n",
    "    x, y, z = u\n",
    "    dxdt = y\n",
    "    dydt = x - (1 + a * np.cos(z) * y) * x**3\n",
    "    dzdt = 2.0\n",
    "    return [dxdt, dydt, dzdt]\n",
    "\n",
    "def jacobian_matrix(u, a):\n",
    "    x, y, z = u\n",
    "    J = np.array([\n",
    "        [0, 1, 0],\n",
    "        [1 - 3*a*(x**2)*y*np.cos(z) - a*np.cos(z)*x**3, -a*np.cos(z)*x**3, a*np.sin(z)*y*x**3],\n",
    "        [0, 0, 0]\n",
    "    ])\n",
    "    return J\n",
    "\n",
    "def normalize_vector(v):\n",
    "    return v / np.linalg.norm(v)\n",
    "\n",
    "def lyapunov_exponent(a, u0, num_steps, dt, epsilon):\n",
    "    state = np.array(u0)\n",
    "    lyapunov_sum = 0.0\n",
    "\n",
    "    for step in range(num_steps):\n",
    "        t = step * dt\n",
    "        solution = odeint(ode_system, state, [t, t + dt], args=(a,))\n",
    "        x_t, x_t_dt = solution\n",
    "\n",
    "        J_t = jacobian_matrix(x_t, a)\n",
    "        J_t_dt = jacobian_matrix(x_t_dt, a)\n",
    "\n",
    "        lyapunov_sum += np.log(np.linalg.norm(J_t_dt @ normalize_vector(J_t @ np.eye(3))))\n",
    "\n",
    "        state = x_t_dt + epsilon * normalize_vector(np.random.rand(3))\n",
    "\n",
    "    return lyapunov_sum / (num_steps * dt)\n",
    "\n",
    "# Parameters\n",
    "a_array = np.arange(0,0.5,0.01)\n",
    "initial_state = [1.0, 0.0, 0.0]\n",
    "num_steps = 10000\n",
    "dt = 0.01\n",
    "epsilon = 1e-6\n",
    "\n",
    "\n",
    "\n",
    "print(lyapunov_exponent(0, initial_state, num_steps, dt, epsilon))\n",
    "# Compute Lyapunov Exponent\n",
    "l = []\n",
    "for a in a_array:\n",
    "    l.append(lyapunov_exponent(a, initial_state, num_steps, dt, epsilon))\n",
    "    print(l[-1])\n",
    "plt.plot(a_array,l)\n"
   ],
   "metadata": {
    "collapsed": false,
    "ExecuteTime": {
     "end_time": "2024-02-19T21:21:17.158552004Z",
     "start_time": "2024-02-19T21:20:40.898377880Z"
    }
   },
   "outputs": []
  },
  {
   "cell_type": "code",
   "execution_count": null,
   "source": [],
   "metadata": {
    "collapsed": false
   },
   "outputs": []
  }
 ],
 "metadata": {
  "kernelspec": {
   "display_name": "Python 3",
   "language": "python",
   "name": "python3"
  },
  "language_info": {
   "codemirror_mode": {
    "name": "ipython",
    "version": 2
   },
   "file_extension": ".py",
   "mimetype": "text/x-python",
   "name": "python",
   "nbconvert_exporter": "python",
   "pygments_lexer": "ipython2",
   "version": "2.7.6"
  }
 },
 "nbformat": 4,
 "nbformat_minor": 0
}
