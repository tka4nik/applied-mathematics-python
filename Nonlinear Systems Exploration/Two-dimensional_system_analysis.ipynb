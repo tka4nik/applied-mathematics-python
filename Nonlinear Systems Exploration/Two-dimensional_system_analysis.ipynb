{
 "cells": [
  {
   "cell_type": "code",
   "execution_count": 1,
   "metadata": {
    "collapsed": true,
    "ExecuteTime": {
     "end_time": "2024-01-30T08:12:20.861709472Z",
     "start_time": "2024-01-30T08:12:20.387213272Z"
    }
   },
   "source": [
    "import matplotlib.pyplot\n",
    "import numpy as np\n",
    "import matplotlib.pyplot as plt\n",
    "\n",
    "def function(p, t):\n",
    "    x, y = p\n",
    "    return y, x ** 3 - x\n",
    "\n",
    "max_x = 2.0\n",
    "max_y = 1.0\n",
    "n = 50\n",
    "\n",
    "x_range = np.linspace(-max_x, max_x, n)\n",
    "y_range = np.linspace(-max_y, max_y, n)\n",
    "x_grid, y_grid = np.meshgrid(x_range, y_range)\n",
    "t = 0"
   ],
   "outputs": []
  },
  {
   "cell_type": "code",
   "execution_count": 2,
   "source": [
    "def phase_portret(x_grid, y_grid):\n",
    "    nx = x_grid.shape\n",
    "    ny = y_grid.shape\n",
    "    u, v = np.zeros(nx), np.zeros(ny)\n",
    "\n",
    "    for i in range(nx[0]):\n",
    "        for j in range(ny[0]):\n",
    "            x = x_grid[i, j]\n",
    "            y = y_grid[i, j]\n",
    "            derivative_vector = function([x, y], t)\n",
    "            u[i, j] = derivative_vector[0]\n",
    "            v[i, j] = derivative_vector[1]\n",
    "    return [x_grid, y_grid, u, v]\n"
   ],
   "metadata": {
    "collapsed": false,
    "ExecuteTime": {
     "end_time": "2024-01-30T08:12:22.773865696Z",
     "start_time": "2024-01-30T08:12:22.750154931Z"
    }
   },
   "outputs": []
  },
  {
   "cell_type": "code",
   "execution_count": 12,
   "source": [
    "from scipy.integrate import odeint\n",
    "import matplotlib as mpl\n",
    "\n",
    "for point in [[1.45, -0.9], [-1.75, 0.9], [-0.65, 0]]:\n",
    "    tspan = np.linspace(0, 4.5, 50)\n",
    "    solution = odeint(function, point, tspan)\n",
    "    plt.plot(solution[:,0], solution[:,1], 'b-') # path\n",
    "    plt.plot([solution[0,0]], [solution[0,1]], 'go') # start\n",
    "    plt.plot([solution[-1,0]], [solution[-1,1]], 'ro') # end\n",
    "    plt.plot(0, 0, 'ko')\n",
    "    plt.plot(-1, 0, 'ko')\n",
    "    plt.plot(1, 0, 'ko')\n",
    "\n",
    "\n",
    "plt.xlim([-max_x, max_x])\n",
    "plt.ylim([-max_y, max_y])\n",
    "plt.title(\"Phase Portrait for system x\\\" = x^3 - x \")\n",
    "plt.xlabel(\"x\")\n",
    "plt.ylabel(\"y\")\n",
    "plt.legend(['solution trajectory', 'strart', 'finish', 'fixed point'],  loc=\"best\")\n",
    "plt.streamplot(*phase_portret(x_grid, y_grid), color='grey')"
   ],
   "metadata": {
    "collapsed": false,
    "ExecuteTime": {
     "end_time": "2024-01-30T08:37:36.095241284Z",
     "start_time": "2024-01-30T08:37:34.568502620Z"
    }
   },
   "outputs": []
  },
  {
   "cell_type": "code",
   "execution_count": null,
   "source": [],
   "metadata": {
    "collapsed": false
   },
   "outputs": []
  }
 ],
 "metadata": {
  "kernelspec": {
   "display_name": "Python 3",
   "language": "python",
   "name": "python3"
  },
  "language_info": {
   "codemirror_mode": {
    "name": "ipython",
    "version": 2
   },
   "file_extension": ".py",
   "mimetype": "text/x-python",
   "name": "python",
   "nbconvert_exporter": "python",
   "pygments_lexer": "ipython2",
   "version": "2.7.6"
  }
 },
 "nbformat": 4,
 "nbformat_minor": 0
}
