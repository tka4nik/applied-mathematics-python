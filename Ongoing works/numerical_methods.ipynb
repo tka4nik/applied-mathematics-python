{
 "cells": [
  {
   "cell_type": "code",
   "execution_count": 5,
   "metadata": {
    "collapsed": true,
    "ExecuteTime": {
     "end_time": "2024-02-04T20:39:26.419306610Z",
     "start_time": "2024-02-04T20:39:26.401054647Z"
    }
   },
   "outputs": [],
   "source": [
    "import numpy as np\n",
    "import matplotlib.pyplot as plt\n",
    "import sympy as sp\n",
    "\n",
    "exact_value = 0.77143\n",
    "\n",
    "def an(n: int):\n",
    "    return 24 / (7 * (n ** 2 + 8 * n + 15))\n"
   ]
  },
  {
   "cell_type": "code",
   "execution_count": 6,
   "outputs": [],
   "source": [
    "def count_correct_significant_digits(error, value):\n",
    "    if error > value:\n",
    "        return 0\n",
    "\n",
    "    error_string = str(format(float(error), 'f'))\n",
    "\n",
    "    counter = 0\n",
    "    for digit_error in error_string:\n",
    "        if digit_error.isdigit():\n",
    "            err = float(digit_error)\n",
    "            if err <= 1:\n",
    "                counter += 1\n",
    "            else:\n",
    "                break\n",
    "    return counter"
   ],
   "metadata": {
    "collapsed": false,
    "ExecuteTime": {
     "end_time": "2024-02-04T20:39:26.616270941Z",
     "start_time": "2024-02-04T20:39:26.596493927Z"
    }
   }
  },
  {
   "cell_type": "code",
   "execution_count": 7,
   "outputs": [],
   "source": [
    "def calculate_error(N: int, exact_value: float):\n",
    "    partial_sum = 0\n",
    "    for i in range(1, N):\n",
    "        partial_sum += an(i)\n",
    "    error = np.abs(exact_value - partial_sum)\n",
    "\n",
    "    correct_numbers = count_correct_significant_digits(error, exact_value)\n",
    "    return partial_sum, error, correct_numbers"
   ],
   "metadata": {
    "collapsed": false,
    "ExecuteTime": {
     "end_time": "2024-02-04T20:39:26.807137314Z",
     "start_time": "2024-02-04T20:39:26.750114404Z"
    }
   }
  },
  {
   "cell_type": "code",
   "execution_count": 8,
   "outputs": [
    {
     "name": "stdout",
     "output_type": "stream",
     "text": [
      "S(10) = 0.5171114599686029, d(10) = 0.2543185400313971, M = 1\n",
      "S(100) = 0.7383015043209216, d(100) = 0.033128495679078385, M = 2\n",
      "S(1000) = 0.7680119572982819, d(1000) = 0.0034180427017180826, M = 3\n",
      "S(10000) = 0.771085834242873, d(10000) = 0.0003441657571269241, M = 4\n",
      "S(100000) = 0.771394286914239, d(100000) = 3.5713085761002183e-05, M = 5\n"
     ]
    }
   ],
   "source": [
    "M_array = []\n",
    "N_array = []\n",
    "for N in [10, 10 ** 2, 10 ** 3, 10 ** 4, 10 ** 5]:\n",
    "    data = calculate_error(N, exact_value)\n",
    "    M_array.append(data[2])\n",
    "    N_array.append(N)\n",
    "    print(f\"S({N}) = {data[0]}, d({N}) = {data[1]}, M = {data[2]}\")"
   ],
   "metadata": {
    "collapsed": false,
    "ExecuteTime": {
     "end_time": "2024-02-04T20:39:26.984242347Z",
     "start_time": "2024-02-04T20:39:26.888757539Z"
    }
   }
  },
  {
   "cell_type": "code",
   "execution_count": 9,
   "outputs": [
    {
     "data": {
      "text/plain": "Text(0.5, 1.0, 'Гистограмма количества верных цифр к размеру частичной суммы')"
     },
     "execution_count": 9,
     "metadata": {},
     "output_type": "execute_result"
    },
    {
     "data": {
      "text/plain": "<Figure size 640x480 with 1 Axes>",
      "image/png": "[encoded data removed]"
     },
     "metadata": {},
     "output_type": "display_data"
    }
   ],
   "source": [
    "plt.bar(M_array, (M_array + [0])[0:-1])\n",
    "plt.xticks((M_array + [0])[0:-1], N_array)\n",
    "plt.title(\"Гистограмма количества верных цифр к размеру частичной суммы\")"
   ],
   "metadata": {
    "collapsed": false,
    "ExecuteTime": {
     "end_time": "2024-02-04T20:39:27.413212081Z",
     "start_time": "2024-02-04T20:39:27.023986240Z"
    }
   }
  },
  {
   "cell_type": "code",
   "execution_count": 12,
   "outputs": [
    {
     "name": "stdout",
     "output_type": "stream",
     "text": [
      "Exact determinant: -4\n",
      "a1: 1.01; Relative error = 0.514528301886792, Absolute error = 1.54358490566037, True numbers: 1\n",
      "a2: 1.01; Relative error = 0.148592750533046, Absolute error = 0.445778251599139, True numbers: 1\n",
      "a3: 1.01; Relative error = 0.673333333333332, Absolute error = 26.9333333333333, True numbers: 0\n",
      "a4: 1.01; Relative error = 0.532321428571420, Absolute error = 5.85553571428562, True numbers: 0\n",
      "a5: 1.01; Relative error = 0.163087349397589, Absolute error = 2.12013554216865, True numbers: 0\n",
      "a1: 0.99; Relative error = 0.249813084112150, Absolute error = 0.749439252336449, True numbers: 1\n",
      "a2: 0.99; Relative error = 0.206374622356501, Absolute error = 0.619123867069502, True numbers: 1\n",
      "a3: 0.99; Relative error = 0.282857142857143, Absolute error = 11.3142857142857, True numbers: 0\n",
      "a4: 0.99; Relative error = 0.877398648648672, Absolute error = 9.65138513513539, True numbers: 0\n",
      "a5: 0.99; Relative error = 0.733161764705920, Absolute error = 9.53110294117697, True numbers: 0\n"
     ]
    }
   ],
   "source": [
    "delta = 0.01\n",
    "a1, a2, a3, a4, a5 = sp.symbols(\"a1 a2 a3 a4 a5\")\n",
    "matrix_a = sp.Matrix([\n",
    "    [a1, 1, a5],\n",
    "    [5, a2, 15],\n",
    "    [a4, 5, a3]\n",
    "])\n",
    "print(f\"Exact determinant: {matrix_a.det().subs([(a1, 3), (a2, 3), (a3, 40), (a4, 11), (a5, 13)])}\")\n",
    "\n",
    "exact_determinant = matrix_a.det().subs([(a1, 3), (a2, 3), (a3, 40), (a4, 11), (a5, 13)])\n",
    "\n",
    "for case in [1 + delta, 1 - delta]:\n",
    "    for aii, i in zip([a1, a2, a3, a4, a5], [(0, 0), (1, 1), (2, 2), (0, 2), (2, 0)]):\n",
    "        new_matrix = matrix_a.copy()\n",
    "        new_matrix[i[0], i[1]] = new_matrix[i[0], i[1]] * case\n",
    "        determinant = new_matrix.det()\n",
    "\n",
    "        derivative = sp.diff(determinant, aii)\n",
    "\n",
    "        relative_error = ((sp.Abs(derivative) * sp.Abs(aii)) / sp.Abs(determinant))  * delta\n",
    "        absolute_error = relative_error * sp.Abs(aii)\n",
    "\n",
    "        significant_digits = count_correct_significant_digits(absolute_error.subs([(a1, 3), (a2, 3), (a3, 40), (a4, 11), (a5, 13)]), abs(exact_determinant))\n",
    "\n",
    "        print(f\"{aii}: {case}; Relative error = {relative_error.subs([(a1, 3), (a2, 3), (a3, 40), (a4, 11), (a5, 13)])}, Absolute error = {absolute_error.subs([(a1, 3), (a2, 3), (a3, 40), (a4, 11), (a5, 13)])}, True numbers: {significant_digits}\")"
   ],
   "metadata": {
    "collapsed": false,
    "ExecuteTime": {
     "end_time": "2024-02-04T20:40:48.412607511Z",
     "start_time": "2024-02-04T20:40:48.366850320Z"
    }
   }
  },
  {
   "cell_type": "code",
   "execution_count": 2,
   "outputs": [
    {
     "name": "stdout",
     "output_type": "stream",
     "text": [
      "float32: Машинный ноль = 2^-150\n",
      "float32: Машинная бесконечность = 2^128\n",
      "float32: Машинное эпсилон = 2^-24\n",
      "\n",
      "float64: Машинный ноль = 2^-1075\n",
      "float64: Машинная бесконечность = 2^1024\n",
      "float64: Машинное эпсилон = 2^-53\n",
      "\n",
      "longdouble: Машинный ноль = 2^-16446\n",
      "longdouble: Машинная бесконечность = 2^16384\n",
      "longdouble: Машинное эпсилон = 2^-64\n",
      "\n"
     ]
    },
    {
     "name": "stderr",
     "output_type": "stream",
     "text": [
      "/tmp/ipykernel_4421/1096479471.py:14: RuntimeWarning: overflow encountered in cast\n",
      "  value = type(value * 2)\n",
      "/tmp/ipykernel_4421/1096479471.py:14: RuntimeWarning: overflow encountered in scalar multiply\n",
      "  value = type(value * 2)\n"
     ]
    }
   ],
   "source": [
    "def machine_zero(type):\n",
    "    k = 0\n",
    "    value = type(1)\n",
    "    while value != 0:\n",
    "        value = type(value / 2)\n",
    "        k += 1\n",
    "    print(f\"{type.__name__}: Машинный ноль = 2^-{k}\")\n",
    "\n",
    "\n",
    "def machine_infinity(type):\n",
    "    k = 0\n",
    "    value = type(1)\n",
    "    while value != np.inf:\n",
    "        value = type(value * 2)\n",
    "        k += 1\n",
    "    print(f\"{type.__name__}: Машинная бесконечность = 2^{k}\")\n",
    "\n",
    "\n",
    "def machine_epsilon(type):\n",
    "    k = 0\n",
    "    value = type(1)\n",
    "    while type(1.) + value > type(1.):\n",
    "        value = type(value / 2)\n",
    "        k += 1\n",
    "    print(f\"{type.__name__}: Машинное эпсилон = 2^-{k}\")\n",
    "\n",
    "\n",
    "for my_type in [np.single, np.double, np.longdouble]:\n",
    "    machine_zero(my_type)\n",
    "    machine_infinity(my_type)\n",
    "    machine_epsilon(my_type)\n",
    "    print()"
   ],
   "metadata": {
    "collapsed": false,
    "ExecuteTime": {
     "end_time": "2024-02-04T15:03:38.680036012Z",
     "start_time": "2024-02-04T15:03:38.588531619Z"
    }
   }
  },
  {
   "cell_type": "code",
   "execution_count": 3,
   "outputs": [
    {
     "name": "stdout",
     "output_type": "stream",
     "text": [
      "Без погрешности: detA = 1.5999999999999945\n",
      "\n",
      "Минимальный определитель = -129.94380000000007\n",
      "Максимальный определитель = 120.61580000000012\n",
      "С погрешностью 0.05: определитель может быть 0\n",
      "\n",
      "Минимальный определитель = -274.01439999999997\n",
      "Максимальный определитель = 233.52960000000022\n",
      "С погрешностью 0.1: определитель может быть 0\n",
      "\n"
     ]
    }
   ],
   "source": [
    "from itertools import product\n",
    "\n",
    "def inverse_matrix_check(matrix):\n",
    "    print(f'Без погрешности: detA = {np.linalg.det(matrix)}\\n')\n",
    "\n",
    "\n",
    "def inverse_matrix_check_error(matrix, delta):\n",
    "    determinants = []\n",
    "    for j in list(product([-1, 1], repeat=9)):\n",
    "        determinants.append(\n",
    "            np.linalg.det(\n",
    "                matrix * (1 + delta * np.array(j).reshape(3, 3))\n",
    "            )\n",
    "        )\n",
    "\n",
    "    min_determinant, max_determinant = np.min(determinants), np.max(determinants)\n",
    "    print(f'Минимальный определитель = {min_determinant}')\n",
    "    print(f'Максимальный определитель = {max_determinant}')\n",
    "\n",
    "    if min_determinant < 0 < max_determinant:\n",
    "        print(f\"С погрешностью {delta}: определитель может быть 0\\n\")\n",
    "    else:\n",
    "        print(f\"С погрешностью {delta}: определитель не может быть 0\\n\")\n",
    "\n",
    "\n",
    "matrix = np.array([\n",
    "    [3, 1, 13],\n",
    "    [13.4, 11.4, 23],\n",
    "    [5, 3, 15]\n",
    "])\n",
    "inverse_matrix_check(matrix)\n",
    "inverse_matrix_check_error(matrix, 0.05)\n",
    "inverse_matrix_check_error(matrix, 0.1)"
   ],
   "metadata": {
    "collapsed": false,
    "ExecuteTime": {
     "end_time": "2024-02-04T15:16:37.568498712Z",
     "start_time": "2024-02-04T15:16:37.543786302Z"
    }
   }
  }
 ],
 "metadata": {
  "kernelspec": {
   "display_name": "Python 3",
   "language": "python",
   "name": "python3"
  },
  "language_info": {
   "codemirror_mode": {
    "name": "ipython",
    "version": 2
   },
   "file_extension": ".py",
   "mimetype": "text/x-python",
   "name": "python",
   "nbconvert_exporter": "python",
   "pygments_lexer": "ipython2",
   "version": "2.7.6"
  }
 },
 "nbformat": 4,
 "nbformat_minor": 0
}
