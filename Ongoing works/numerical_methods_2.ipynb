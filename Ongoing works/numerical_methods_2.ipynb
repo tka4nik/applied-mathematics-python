{
 "cells": [
  {
   "cell_type": "code",
   "execution_count": 3,
   "metadata": {
    "collapsed": true,
    "ExecuteTime": {
     "end_time": "2024-02-19T09:01:45.391417596Z",
     "start_time": "2024-02-19T09:01:45.297707292Z"
    }
   },
   "source": [
    "import numpy as np\n",
    "import matplotlib.pyplot as plt"
   ],
   "outputs": []
  },
  {
   "cell_type": "code",
   "execution_count": 4,
   "source": [
    "N, n = 21, 6\n",
    "A, b = np.zeros((n, n), dtype=float), np.full(n, fill_value=N, dtype=float)\n",
    "\n",
    "for i in range(n):\n",
    "    for j in range(n):\n",
    "        c = 0.1 * N * (i + 1) * (j + 1)\n",
    "        A[i, j] = 1000 / (3*c**2 + c**3)\n",
    "\n",
    "x = np.linalg.solve(A, b)\n",
    "cond_value = np.linalg.cond(A, p=np.inf)\n",
    "print(f\"Решение системы {x=}, Число обусловленности = {cond_value}\")"
   ],
   "metadata": {
    "collapsed": false,
    "ExecuteTime": {
     "end_time": "2024-02-19T09:01:45.404553972Z",
     "start_time": "2024-02-19T09:01:45.344455621Z"
    }
   },
   "outputs": []
  },
  {
   "cell_type": "code",
   "execution_count": 5,
   "source": [
    "delta = 0.05\n",
    "d = np.empty(n)\n",
    "for i in range(n):\n",
    "    b_i = b.copy()\n",
    "    b_i[i] += delta\n",
    "    x_i = np.linalg.solve(A, b_i)\n",
    "    d[i] = np.linalg.norm(x - x_i, ord=np.inf) / np.linalg.norm(x, ord=np.inf)\n",
    "\n",
    "print(f\"Вектор относительных погрешностей {d=}\")\n"
   ],
   "metadata": {
    "collapsed": false,
    "ExecuteTime": {
     "end_time": "2024-02-19T09:01:45.405161242Z",
     "start_time": "2024-02-19T09:01:45.344906796Z"
    }
   },
   "outputs": []
  },
  {
   "cell_type": "code",
   "execution_count": 6,
   "source": [
    "plt.bar(np.arange(0, n), d)\n",
    "plt.title(\"Гистограмма вектора d\")\n",
    "print(f\"Компонента b {b[np.argmax(d)]}, оказывающая наибольшее влияние, имеет индекс {np.argmax(d)}\")"
   ],
   "metadata": {
    "collapsed": false,
    "ExecuteTime": {
     "end_time": "2024-02-19T09:01:45.556252791Z",
     "start_time": "2024-02-19T09:01:45.345265501Z"
    }
   },
   "outputs": []
  },
  {
   "cell_type": "code",
   "execution_count": 7,
   "source": [
    "for i in range(n):\n",
    "    b_i = b.copy()\n",
    "    b_i[i] += delta\n",
    "\n",
    "    estimation = cond_value * (np.linalg.norm(b - b_i, ord=np.inf) / np.linalg.norm(b, ord=np.inf))\n",
    "    print(f\"x{i}: Погрешность detla(xi): {d[i]}, Оцененная погрешность delta(xi): {estimation}\")"
   ],
   "metadata": {
    "collapsed": false,
    "ExecuteTime": {
     "end_time": "2024-02-19T09:01:45.565259802Z",
     "start_time": "2024-02-19T09:01:45.558648207Z"
    }
   },
   "outputs": []
  },
  {
   "cell_type": "code",
   "execution_count": 8,
   "source": [
    "import pandas as pd\n",
    "\n",
    "n, m = 25, 10\n",
    "\n",
    "def cholesky(A: np.ndarray, n: int) -> np.ndarray:\n",
    "    L = np.zeros((n,n))\n",
    "\n",
    "    for j in range(n):\n",
    "        for i in range(n):\n",
    "            if j < i:\n",
    "                sum = np.dot(L[i,:], L[j,:])\n",
    "                multiplier = 1/L[j,j]\n",
    "                sum = 0 if np.isnan(sum) or np.isinf(sum) else sum\n",
    "                multiplier = 1 if np.isnan(multiplier) or np.isinf(multiplier) else multiplier\n",
    "\n",
    "                L[i,j] = multiplier * (A[i,j] - sum)\n",
    "            if i == j:\n",
    "                sum = np.sum(L[i,:i]**2)\n",
    "                sum = 0 if np.isnan(sum) or np.isinf(sum) else sum\n",
    "\n",
    "                L[i,j] = np.sqrt(A[i,i] - sum)\n",
    "    return L"
   ],
   "metadata": {
    "collapsed": false,
    "ExecuteTime": {
     "end_time": "2024-02-19T09:01:46.088017163Z",
     "start_time": "2024-02-19T09:01:45.565617459Z"
    }
   },
   "outputs": []
  },
  {
   "cell_type": "code",
   "execution_count": 9,
   "source": [
    "A = np.empty((n,n))\n",
    "b = np.arange(n)**2 - n\n",
    "\n",
    "for i in range(n):\n",
    "    for j in range(n):\n",
    "        if i == j:\n",
    "            A[i,j] = n + m**2 + j/m + i/n\n",
    "        else:\n",
    "            A[i,j] = (i+j)/(m+n)\n",
    "\n",
    "L = cholesky(A,n)\n",
    "A_tmp = L.dot(L.transpose())   # Проверка решения\n",
    "print(np.allclose(A, A_tmp))\n",
    "pd.DataFrame(L).to_csv('lmatrix.csv')\n",
    "pd.DataFrame(L.transpose()).to_csv('lmatrix.csv')"
   ],
   "metadata": {
    "collapsed": false,
    "ExecuteTime": {
     "end_time": "2024-02-19T09:01:46.107359007Z",
     "start_time": "2024-02-19T09:01:46.079126508Z"
    }
   },
   "outputs": []
  },
  {
   "cell_type": "code",
   "execution_count": 10,
   "source": [
    "y = np.linalg.solve(L, b)\n",
    "x = np.linalg.solve(L.transpose(), y)\n",
    "print(x)"
   ],
   "metadata": {
    "collapsed": false,
    "ExecuteTime": {
     "end_time": "2024-02-19T09:01:46.181714477Z",
     "start_time": "2024-02-19T09:01:46.103246962Z"
    }
   },
   "outputs": []
  },
  {
   "cell_type": "code",
   "execution_count": 11,
   "source": [
    "def value_to_decimal(value, m):\n",
    "    return int(value * 10 ** m + 0.5) / 10 ** m"
   ],
   "metadata": {
    "collapsed": false,
    "ExecuteTime": {
     "end_time": "2024-02-19T09:01:46.182504661Z",
     "start_time": "2024-02-19T09:01:46.103539946Z"
    }
   },
   "outputs": []
  },
  {
   "cell_type": "code",
   "execution_count": 12,
   "source": [
    "def gauss_partial_sle(A, b):\n",
    "    n = len(b)\n",
    "    M = np.hstack((A, b.reshape(-1, 1)))\n",
    "    # Прямой ход\n",
    "    for k in range(n):\n",
    "        # Выбор главной строки по столбцу\n",
    "        max_index = k + np.argmax(np.abs(M[k:,k]))\n",
    "        M[k], M[max_index] = M[max_index].copy(), M[k].copy()\n",
    "        for i in range(k+1, n):\n",
    "            modifier = M[i, k] / M[k, k]\n",
    "            M[i, :] -= M[k, :] * modifier\n",
    "\n",
    "    # Обратный ход\n",
    "    x = np.zeros(n)\n",
    "    for i in range(n-1, -1, -1):\n",
    "        multiplier = 1 / M[i,i]\n",
    "        sum = np.dot(M[i,i+1:n], x[i+1:])\n",
    "        x[i] = multiplier * (M[i, -1] - sum)\n",
    "    return x"
   ],
   "metadata": {
    "collapsed": false,
    "ExecuteTime": {
     "end_time": "2024-02-19T09:01:46.183224725Z",
     "start_time": "2024-02-19T09:01:46.109899204Z"
    }
   },
   "outputs": []
  },
  {
   "cell_type": "code",
   "execution_count": 13,
   "source": [
    "def gauss_partial_sle_rounded(A, b):\n",
    "    n = len(b)\n",
    "    M = np.hstack((A, b.reshape(-1, 1)))\n",
    "    for k in range(n):\n",
    "        max_index = k + np.argmax(np.abs(M[k:,k]))\n",
    "        M[k], M[max_index] = M[max_index].copy(), M[k].copy()\n",
    "\n",
    "        for i in range(k+1, n):\n",
    "            modifier = value_to_decimal(M[i, k] / M[k, k], m)\n",
    "            M[i, :] -= M[k, :] * modifier\n",
    "            M[i, :] = np.array([value_to_decimal(v, m) for v in M[i, :]])\n",
    "\n",
    "    x = np.zeros(n)\n",
    "    for i in range(n-1, -1, -1):\n",
    "        multiplier = value_to_decimal(1 / M[i,i], m)\n",
    "        sum = np.dot(M[i,i+1:n], x[i+1:])\n",
    "        x[i] = value_to_decimal(multiplier * (M[i, -1] - sum), m)\n",
    "    return x"
   ],
   "metadata": {
    "collapsed": false,
    "ExecuteTime": {
     "end_time": "2024-02-19T09:01:46.184160598Z",
     "start_time": "2024-02-19T09:01:46.119486526Z"
    }
   },
   "outputs": []
  },
  {
   "cell_type": "code",
   "execution_count": 14,
   "source": [
    "def generate_sle(t):\n",
    "    qm = 0.993 + (-1)**M * M * 10 ** -4\n",
    "\n",
    "    A = np.empty((n,n))\n",
    "    b = qm**(n+1-np.arange(n))\n",
    "    for i in range(n):\n",
    "        for j in range(n):\n",
    "            q_j = qm ** j\n",
    "            if i == j:\n",
    "                A[i,j] = q_j + t\n",
    "            else:\n",
    "                A[i,j] = q_j\n",
    "    return A, b\n",
    "\n",
    "\n",
    "def generate_sle_rounding(t):\n",
    "    qm = np.round(0.993 + np.round((-1)**M * M * 10 ** -4, m),m)\n",
    "\n",
    "    A = np.empty((n,n))\n",
    "    b = np.round(qm**(n+1-np.arange(n)),m)\n",
    "    for i in range(n):\n",
    "        for j in range(n):\n",
    "            q_j = np.round(qm ** j, m)\n",
    "            if i == j:\n",
    "                A[i,j] = np.round(q_j + np.round(t,m))\n",
    "            else:\n",
    "                A[i,j] = q_j\n",
    "    return A, b\n"
   ],
   "metadata": {
    "collapsed": false,
    "ExecuteTime": {
     "end_time": "2024-02-19T09:01:46.184591379Z",
     "start_time": "2024-02-19T09:01:46.133524902Z"
    }
   },
   "outputs": []
  },
  {
   "cell_type": "code",
   "execution_count": 19,
   "source": [
    "M, N, n, m = 5, 5, 45, 4\n",
    "T = [0.0001, 1, 10000]\n",
    "err = np.empty(len(T))\n",
    "abserr = np.empty(len(T))\n",
    "disc = np.empty(len(T))\n",
    "\n",
    "for t, i in zip(T, np.arange(len(T))):\n",
    "    A1, b1 = generate_sle(t)\n",
    "    A2, b2 = generate_sle_rounding(t)\n",
    "    x1 = gauss_partial_sle(A1, b1)\n",
    "    x2 = gauss_partial_sle_rounded(A2,b2)\n",
    "    discrepancy1 = b2 - A2.dot(x2)\n",
    "    # print(f\"t: {t}; Решение системы {x1=}\")\n",
    "    # print(f\"t: {t}; Решение системы {x2=}\")\n",
    "    err[i] = np.linalg.norm(x1 - x2) / np.linalg.norm(x1)\n",
    "    abserr[i] = np.linalg.norm(x1 - x2)\n",
    "    disc[i] = np.linalg.norm(discrepancy1)\n",
    "    print(f\"t: {t};\\n Относительная погрешность решения: {np.linalg.norm(x1 - x2) / np.linalg.norm(x1)},\\n Норма неувязки второго решения: {np.linalg.norm(discrepancy1)}\")\n",
    "    print()"
   ],
   "metadata": {
    "collapsed": false,
    "ExecuteTime": {
     "end_time": "2024-02-19T09:02:19.183413711Z",
     "start_time": "2024-02-19T09:02:19.014824826Z"
    }
   },
   "outputs": []
  },
  {
   "cell_type": "code",
   "execution_count": 23,
   "source": [
    "plt.plot(np.arange(len(T)), err)\n",
    "plt.xticks(np.arange(len(T)), T)\n",
    "plt.title(\"Относительная погрешность\")"
   ],
   "metadata": {
    "collapsed": false,
    "ExecuteTime": {
     "end_time": "2024-02-19T09:04:45.912488828Z",
     "start_time": "2024-02-19T09:04:45.786239612Z"
    }
   },
   "outputs": []
  },
  {
   "cell_type": "code",
   "execution_count": 24,
   "source": [
    "plt.plot(np.arange(len(T)), abserr)\n",
    "plt.xticks(np.arange(len(T)), T)\n",
    "plt.title(\"Абсолютная погрешность\")\n"
   ],
   "metadata": {
    "collapsed": false,
    "ExecuteTime": {
     "end_time": "2024-02-19T09:04:46.079891320Z",
     "start_time": "2024-02-19T09:04:45.924781871Z"
    }
   },
   "outputs": []
  },
  {
   "cell_type": "code",
   "execution_count": 25,
   "source": [
    "plt.plot(np.arange(len(T)), disc)\n",
    "plt.xticks(np.arange(len(T)), T)\n",
    "plt.title(\"Невязка\")\n"
   ],
   "metadata": {
    "collapsed": false,
    "ExecuteTime": {
     "end_time": "2024-02-19T09:04:46.243803143Z",
     "start_time": "2024-02-19T09:04:46.091097842Z"
    }
   },
   "outputs": []
  },
  {
   "cell_type": "code",
   "execution_count": 18,
   "source": [],
   "metadata": {
    "collapsed": false,
    "ExecuteTime": {
     "end_time": "2024-02-19T09:01:47.232982794Z",
     "start_time": "2024-02-19T09:01:47.191929811Z"
    }
   },
   "outputs": []
  }
 ],
 "metadata": {
  "kernelspec": {
   "display_name": "Python 3",
   "language": "python",
   "name": "python3"
  },
  "language_info": {
   "codemirror_mode": {
    "name": "ipython",
    "version": 2
   },
   "file_extension": ".py",
   "mimetype": "text/x-python",
   "name": "python",
   "nbconvert_exporter": "python",
   "pygments_lexer": "ipython2",
   "version": "2.7.6"
  }
 },
 "nbformat": 4,
 "nbformat_minor": 0
}
