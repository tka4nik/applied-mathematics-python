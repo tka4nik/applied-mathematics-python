{
 "cells": [
  {
   "cell_type": "code",
   "execution_count": 78,
   "metadata": {
    "collapsed": true,
    "ExecuteTime": {
     "end_time": "2024-02-18T11:35:26.909535419Z",
     "start_time": "2024-02-18T11:35:26.849543786Z"
    }
   },
   "outputs": [],
   "source": [
    "import numpy as np\n",
    "import matplotlib.pyplot as plt\n",
    "import sympy as sp"
   ]
  },
  {
   "cell_type": "code",
   "execution_count": 91,
   "outputs": [
    {
     "name": "stdout",
     "output_type": "stream",
     "text": [
      "Решение системы x=array([ 5.83328395e+05, -1.28347866e+08,  2.87812060e+09, -1.71784680e+10,\n",
      "        3.55160291e+10, -2.30797857e+10]), Число обусловленности = 3749057141917.2344\n"
     ]
    }
   ],
   "source": [
    "N, n = 21, 6\n",
    "A, b = np.zeros((n, n), dtype=float), np.full(n, fill_value=N, dtype=float)\n",
    "\n",
    "for i in range(n):\n",
    "    for j in range(n):\n",
    "        c = 0.1 * N * (i + 1) * (j + 1)\n",
    "        A[i, j] = 1000 / (3*c**2 + c**3)\n",
    "\n",
    "x = np.linalg.solve(A, b)\n",
    "cond_value = np.linalg.cond(A, p=np.inf)\n",
    "print(f\"Решение системы {x=}, Число обусловленности = {cond_value}\")"
   ],
   "metadata": {
    "collapsed": false,
    "ExecuteTime": {
     "end_time": "2024-02-18T11:35:39.103560496Z",
     "start_time": "2024-02-18T11:35:39.091275764Z"
    }
   }
  },
  {
   "cell_type": "code",
   "execution_count": 80,
   "outputs": [
    {
     "name": "stdout",
     "output_type": "stream",
     "text": [
      "Вектор относительных погрешностей d=array([6.07655693e-07, 1.43070054e-04, 3.29189476e-03, 1.99160852e-02,\n",
      "       4.15215031e-02, 2.71358027e-02])\n"
     ]
    }
   ],
   "source": [
    "delta = 0.05\n",
    "d = np.empty(n)\n",
    "for i in range(n):\n",
    "    b_i = b.copy()\n",
    "    b_i[i] += delta\n",
    "    x_i = np.linalg.solve(A, b_i)\n",
    "    d[i] = np.linalg.norm(x - x_i, ord=np.inf) / np.linalg.norm(x, ord=np.inf)\n",
    "\n",
    "print(f\"Вектор относительных погрешностей {d=}\")\n"
   ],
   "metadata": {
    "collapsed": false,
    "ExecuteTime": {
     "end_time": "2024-02-18T11:35:26.910473667Z",
     "start_time": "2024-02-18T11:35:26.892650382Z"
    }
   }
  },
  {
   "cell_type": "code",
   "execution_count": 81,
   "outputs": [
    {
     "name": "stdout",
     "output_type": "stream",
     "text": [
      "Компонента b 21.0, оказывающая наибольшее влияние, имеет индекс 4\n"
     ]
    },
    {
     "data": {
      "text/plain": "<Figure size 640x480 with 1 Axes>",
      "image/png": "[encoded data removed]"
     },
     "metadata": {},
     "output_type": "display_data"
    }
   ],
   "source": [
    "plt.bar(np.arange(0, n), d)\n",
    "plt.title(\"Гистограмма вектора d\")\n",
    "print(f\"Компонента b {b[np.argmax(d)]}, оказывающая наибольшее влияние, имеет индекс {np.argmax(d)}\")"
   ],
   "metadata": {
    "collapsed": false,
    "ExecuteTime": {
     "end_time": "2024-02-18T11:35:27.024308875Z",
     "start_time": "2024-02-18T11:35:26.893042820Z"
    }
   }
  },
  {
   "cell_type": "code",
   "execution_count": 92,
   "outputs": [
    {
     "name": "stdout",
     "output_type": "stream",
     "text": [
      "x0: Погрешность detla(xi): 6.076556930291947e-07, Оцененная погрешность delta(xi): 8926326528.374495\n",
      "x1: Погрешность detla(xi): 0.00014307005358855097, Оцененная погрешность delta(xi): 8926326528.374495\n",
      "x2: Погрешность detla(xi): 0.0032918947563169328, Оцененная погрешность delta(xi): 8926326528.374495\n",
      "x3: Погрешность detla(xi): 0.01991608515744848, Оцененная погрешность delta(xi): 8926326528.374495\n",
      "x4: Погрешность detla(xi): 0.04152150313758436, Оцененная погрешность delta(xi): 8926326528.374495\n",
      "x5: Погрешность detla(xi): 0.027135802719507645, Оцененная погрешность delta(xi): 8926326528.374495\n"
     ]
    }
   ],
   "source": [
    "for i in range(n):\n",
    "    b_i = b.copy()\n",
    "    b_i[i] += delta\n",
    "\n",
    "    estimation = cond_value * (np.linalg.norm(b - b_i, ord=np.inf) / np.linalg.norm(b, ord=np.inf))\n",
    "    print(f\"x{i}: Погрешность detla(xi): {d[i]}, Оцененная погрешность delta(xi): {estimation}\")"
   ],
   "metadata": {
    "collapsed": false,
    "ExecuteTime": {
     "end_time": "2024-02-18T11:44:00.443651568Z",
     "start_time": "2024-02-18T11:44:00.400158470Z"
    }
   }
  },
  {
   "cell_type": "code",
   "execution_count": 83,
   "outputs": [
    {
     "name": "stderr",
     "output_type": "stream",
     "text": [
      "/tmp/ipykernel_79346/625091022.py:1: DeprecationWarning: \n",
      "Pyarrow will become a required dependency of pandas in the next major release of pandas (pandas 3.0),\n",
      "(to allow more performant data types, such as the Arrow string type, and better interoperability with other libraries)\n",
      "but was not found to be installed on your system.\n",
      "If this would cause problems for you,\n",
      "please provide us feedback at https://github.com/pandas-dev/pandas/issues/54466\n",
      "        \n",
      "  import pandas as pd\n"
     ]
    }
   ],
   "source": [
    "import pandas as pd\n",
    "\n",
    "n, m = 25, 10\n",
    "\n",
    "def cholesky(A: np.ndarray, n: int) -> np.ndarray:\n",
    "    L = np.zeros((n,n))\n",
    "\n",
    "    for j in range(n):\n",
    "        for i in range(n):\n",
    "            if j < i:\n",
    "                sum = np.dot(L[i,:], L[j,:])\n",
    "                multiplier = 1/L[j,j]\n",
    "                sum = 0 if np.isnan(sum) or np.isinf(sum) else sum\n",
    "                multiplier = 1 if np.isnan(multiplier) or np.isinf(multiplier) else multiplier\n",
    "\n",
    "                L[i,j] = multiplier * (A[i,j] - sum)\n",
    "            if i == j:\n",
    "                sum = np.sum(L[i,:i]**2)\n",
    "                sum = 0 if np.isnan(sum) or np.isinf(sum) else sum\n",
    "\n",
    "                L[i,j] = np.sqrt(A[i,i] - sum)\n",
    "    return L"
   ],
   "metadata": {
    "collapsed": false,
    "ExecuteTime": {
     "end_time": "2024-02-18T11:35:27.184799035Z",
     "start_time": "2024-02-18T11:35:27.035372152Z"
    }
   }
  },
  {
   "cell_type": "code",
   "execution_count": 84,
   "outputs": [
    {
     "name": "stdout",
     "output_type": "stream",
     "text": [
      "True\n"
     ]
    }
   ],
   "source": [
    "A = np.empty((n,n))\n",
    "b = np.arange(n)**2 - n\n",
    "\n",
    "for i in range(n):\n",
    "    for j in range(n):\n",
    "        if i == j:\n",
    "            A[i,j] = n + m**2 + j/m + i/n\n",
    "        else:\n",
    "            A[i,j] = (i+j)/(m+n)\n",
    "\n",
    "L = cholesky(A,n)\n",
    "A_tmp = L.dot(L.transpose())   # Проверка решения\n",
    "print(np.allclose(A, A_tmp))\n",
    "pd.DataFrame(L).to_csv('lmatrix.csv')\n",
    "pd.DataFrame(L.transpose()).to_csv('lmatrix.csv')"
   ],
   "metadata": {
    "collapsed": false,
    "ExecuteTime": {
     "end_time": "2024-02-18T11:35:27.270296842Z",
     "start_time": "2024-02-18T11:35:27.189676470Z"
    }
   }
  },
  {
   "cell_type": "code",
   "execution_count": 85,
   "outputs": [
    {
     "name": "stdout",
     "output_type": "stream",
     "text": [
      "[-0.3326762  -0.33098052 -0.31330826 -0.27969114 -0.23016078 -0.16474871\n",
      " -0.08348641  0.01359477  0.12646352  0.25508864  0.39943901  0.55948358\n",
      "  0.73519138  0.92653154  1.13347326  1.35598581  1.59403856  1.84760094\n",
      "  2.11664249  2.4011328   2.70104155  3.0163385   3.3469935   3.69297646\n",
      "  4.05425737]\n"
     ]
    }
   ],
   "source": [
    "y = np.linalg.solve(L, b)\n",
    "x = np.linalg.solve(L.transpose(), y)\n",
    "print(x)"
   ],
   "metadata": {
    "collapsed": false,
    "ExecuteTime": {
     "end_time": "2024-02-18T11:35:27.270690328Z",
     "start_time": "2024-02-18T11:35:27.231431498Z"
    }
   }
  },
  {
   "cell_type": "code",
   "execution_count": 86,
   "outputs": [],
   "source": [
    "def value_to_decimal(value, m):\n",
    "    return int(value * 10 ** m + 0.5) / 10 ** m"
   ],
   "metadata": {
    "collapsed": false,
    "ExecuteTime": {
     "end_time": "2024-02-18T11:35:27.270868842Z",
     "start_time": "2024-02-18T11:35:27.231891961Z"
    }
   }
  },
  {
   "cell_type": "code",
   "execution_count": 87,
   "outputs": [],
   "source": [
    "def gauss_partial_sle(A, b):\n",
    "    n = len(b)\n",
    "    M = np.hstack((A, b.reshape(-1, 1)))\n",
    "    # Прямой ход\n",
    "    for k in range(n):\n",
    "        # Выбор главной строки по столбцу\n",
    "        max_index = k + np.argmax(np.abs(M[k:,k]))\n",
    "        M[k], M[max_index] = M[max_index].copy(), M[k].copy()\n",
    "\n",
    "        for i in range(k+1, n):\n",
    "            modifier = M[i, k] / M[k, k]\n",
    "            M[i, :] -= M[k, :] * modifier\n",
    "\n",
    "    # Обратный ход\n",
    "    x = np.zeros(n)\n",
    "    for i in range(n-1, -1, -1):\n",
    "        multiplier = 1 / M[i,i]\n",
    "        sum = np.dot(M[i,i+1:n], x[i+1:])\n",
    "        x[i] = multiplier * (M[i, -1] - sum)\n",
    "    return x"
   ],
   "metadata": {
    "collapsed": false,
    "ExecuteTime": {
     "end_time": "2024-02-18T11:35:27.270996233Z",
     "start_time": "2024-02-18T11:35:27.232227479Z"
    }
   }
  },
  {
   "cell_type": "code",
   "execution_count": 88,
   "outputs": [],
   "source": [
    "def gauss_partial_sle_rounded(A, b):\n",
    "    n = len(b)\n",
    "    M = np.hstack((A, b.reshape(-1, 1)))\n",
    "    for k in range(n):\n",
    "        max_index = k + np.argmax(np.abs(M[k:,k]))\n",
    "        M[k], M[max_index] = M[max_index].copy(), M[k].copy()\n",
    "\n",
    "        for i in range(k+1, n):\n",
    "            modifier = value_to_decimal(M[i, k] / M[k, k], m)\n",
    "            M[i, :] -= M[k, :] * modifier\n",
    "            M[i, :] = np.array([value_to_decimal(v, m) for v in M[i, :]])\n",
    "\n",
    "    x = np.zeros(n)\n",
    "    for i in range(n-1, -1, -1):\n",
    "        multiplier = value_to_decimal(1 / M[i,i], m)\n",
    "        sum = np.dot(M[i,i+1:n], x[i+1:])\n",
    "        x[i] = value_to_decimal(multiplier * (M[i, -1] - sum), m)\n",
    "    return x"
   ],
   "metadata": {
    "collapsed": false,
    "ExecuteTime": {
     "end_time": "2024-02-18T11:35:27.271239211Z",
     "start_time": "2024-02-18T11:35:27.232650717Z"
    }
   }
  },
  {
   "cell_type": "code",
   "execution_count": 89,
   "outputs": [],
   "source": [
    "def generate_sle(t):\n",
    "    qm = 0.993 + (-1)**M * M * 10 ** -4\n",
    "\n",
    "    A = np.empty((n,n))\n",
    "    b = qm**(n+1-np.arange(n))\n",
    "    for i in range(n):\n",
    "        for j in range(n):\n",
    "            q_j = qm ** j\n",
    "            if i == j:\n",
    "                A[i,j] = q_j + t\n",
    "            else:\n",
    "                A[i,j] = q_j\n",
    "    return A, b\n",
    "\n",
    "\n",
    "def generate_sle_rounding(t):\n",
    "    qm = np.round(0.993 + np.round((-1)**M * M * 10 ** -4, m),m)\n",
    "\n",
    "    A = np.empty((n,n))\n",
    "    b = np.round(qm**(n+1-np.arange(n)),m)\n",
    "    for i in range(n):\n",
    "        for j in range(n):\n",
    "            q_j = np.round(qm ** j, m)\n",
    "            if i == j:\n",
    "                A[i,j] = np.round(q_j + np.round(t,m))\n",
    "            else:\n",
    "                A[i,j] = q_j\n",
    "    return A, b\n"
   ],
   "metadata": {
    "collapsed": false,
    "ExecuteTime": {
     "end_time": "2024-02-18T11:35:27.271674462Z",
     "start_time": "2024-02-18T11:35:27.240955683Z"
    }
   }
  },
  {
   "cell_type": "code",
   "execution_count": 90,
   "outputs": [
    {
     "name": "stdout",
     "output_type": "stream",
     "text": [
      "t: 0.0001; Решение системы x1=array([-1234.25290944, -1180.80454033, -1126.95227926, -1072.69307416,\n",
      "       -1018.02384987,  -962.94150801,  -907.4429268 ,  -851.52496084,\n",
      "        -795.18444098,  -738.41817412,  -681.22294303,  -623.59550616,\n",
      "        -565.53259748,  -507.03092626,  -448.08717693,  -388.69800883,\n",
      "        -328.86005608,  -268.56992737,  -207.82420575,  -146.61944845,\n",
      "         -84.95218669,   -22.81892546,    39.78385662,   102.8597076 ,\n",
      "         166.41220228,   230.44494251,   294.96155736,   359.9657033 ,\n",
      "         425.46106444,   491.45135275,   557.94030823,   624.93169914,\n",
      "         692.42932222,   760.4370029 ,   828.95859554,   897.99798358,\n",
      "         967.55907984,  1037.6458267 ,  1108.26219634,  1179.41219094,\n",
      "        1251.09984292,  1323.3292152 ,  1396.10440138,  1469.42952599,\n",
      "        1543.30874474])\n",
      "t: 0.0001; Решение системы x2=array([-30.4121,   0.7067,   0.7181,   0.7265,   0.7273,   0.7344,\n",
      "         0.7398,   0.7466,   0.7517,   0.7573,   0.7628,   0.7686,\n",
      "         0.7743,   0.78  ,   0.786 ,   0.7921,   0.7974,   0.8043,\n",
      "         0.8098,   0.8162,   0.8219,   0.8283,   0.8349,   0.8409,\n",
      "         0.8475,   0.8537,   0.86  ,   0.8668,   0.8732,   0.8802,\n",
      "         0.8863,   0.8933,   0.9   ,   0.9068,   0.9136,   0.9206,\n",
      "         0.9275,   0.9346,   0.9417,   0.9489,   0.9558,   0.9631,\n",
      "         0.9701,   0.9779,   0.9851])\n",
      "t: 0.0001; Норма разности решений: 5513.487819214705, Норма неувязки второго решения: 0.0007951569484329792\n",
      "\n",
      "t: 1; Решение системы x1=array([-0.10229689, -0.09695205, -0.09156682, -0.0861409 , -0.08067398,\n",
      "       -0.07516575, -0.06961589, -0.06402409, -0.05839004, -0.05271341,\n",
      "       -0.04699389, -0.04123115, -0.03542486, -0.02957469, -0.02368031,\n",
      "       -0.0177414 , -0.0117576 , -0.00572859,  0.00034598,  0.00646646,\n",
      "        0.01263319,  0.01884651,  0.02510679,  0.03141437,  0.03776962,\n",
      "        0.0441729 ,  0.05062456,  0.05712497,  0.06367451,  0.07027354,\n",
      "        0.07692244,  0.08362157,  0.09037134,  0.0971721 ,  0.10402426,\n",
      "        0.1109282 ,  0.11788431,  0.12489299,  0.13195462,  0.13906962,\n",
      "        0.14623839,  0.15346133,  0.16073884,  0.16807136,  0.17545928])\n",
      "t: 1; Решение системы x2=array([-0.094 , -0.0879, -0.0821, -0.076 , -0.0702, -0.0643, -0.0586,\n",
      "       -0.0527, -0.0472, -0.0414, -0.0359, -0.0303, -0.0247, -0.0192,\n",
      "       -0.0137, -0.0082, -0.0029,  0.0024,  0.0077,  0.0132,  0.0185,\n",
      "        0.0238,  0.0292,  0.0343,  0.0397,  0.0449,  0.0501,  0.0554,\n",
      "        0.0606,  0.0659,  0.071 ,  0.0763,  0.0815,  0.0867,  0.0918,\n",
      "        0.097 ,  0.1022,  0.1074,  0.1127,  0.1178,  0.1229,  0.1281,\n",
      "        0.1333,  0.1385,  0.1437])\n",
      "t: 1; Норма разности решений: 0.08895640095170222, Норма неувязки второго решения: 0.0031698397197645277\n",
      "\n",
      "t: 10000; Решение системы x1=array([7.04129382e-05, 7.09474219e-05, 7.14859445e-05, 7.20285366e-05,\n",
      "       7.25752288e-05, 7.31260523e-05, 7.36810381e-05, 7.42402177e-05,\n",
      "       7.48036229e-05, 7.53712856e-05, 7.59432379e-05, 7.65195123e-05,\n",
      "       7.71001414e-05, 7.76851581e-05, 7.82745956e-05, 7.88684872e-05,\n",
      "       7.94668668e-05, 8.00697681e-05, 8.06772253e-05, 8.12892729e-05,\n",
      "       8.19059455e-05, 8.25272781e-05, 8.31533059e-05, 8.37840644e-05,\n",
      "       8.44195894e-05, 8.50599168e-05, 8.57050829e-05, 8.63551244e-05,\n",
      "       8.70100780e-05, 8.76699809e-05, 8.83348704e-05, 8.90047843e-05,\n",
      "       8.96797606e-05, 9.03598374e-05, 9.10450533e-05, 9.17354472e-05,\n",
      "       9.24310581e-05, 9.31319256e-05, 9.38380893e-05, 9.45495892e-05,\n",
      "       9.52664658e-05, 9.59887595e-05, 9.67165114e-05, 9.74497626e-05,\n",
      "       9.81885548e-05])\n",
      "t: 10000; Решение системы x2=array([0.0001, 0.0001, 0.0001, 0.0001, 0.0001, 0.0001, 0.0001, 0.0001,\n",
      "       0.0001, 0.0001, 0.0001, 0.0001, 0.0001, 0.0001, 0.0001, 0.0001,\n",
      "       0.0001, 0.0001, 0.0001, 0.0001, 0.0001, 0.0001, 0.0001, 0.0001,\n",
      "       0.0001, 0.0001, 0.0001, 0.0001, 0.0001, 0.0001, 0.0001, 0.0001,\n",
      "       0.0001, 0.0001, 0.0001, 0.0001, 0.0001, 0.0001, 0.0001, 0.0001,\n",
      "       0.0001, 0.0001, 0.0001, 0.0001, 0.0001])\n",
      "t: 10000; Норма разности решений: 0.0001232597219967743, Норма неувязки второго решения: 1.2366289073704584\n",
      "\n"
     ]
    }
   ],
   "source": [
    "M, N, n, m = 5, 5, 45, 4\n",
    "T = [0.0001, 1, 10000]\n",
    "\n",
    "for t in T:\n",
    "    A1, b1 = generate_sle(t)\n",
    "    A2, b2 = generate_sle_rounding(t)\n",
    "    x1 = gauss_partial_sle(A1, b1)\n",
    "    x2 = gauss_partial_sle_rounded(A2,b2)\n",
    "    discrepancy1 = b2 - A2.dot(x2)\n",
    "    print(f\"t: {t}; Решение системы {x1=}\")\n",
    "    print(f\"t: {t}; Решение системы {x2=}\")\n",
    "    print(f\"t: {t}; Норма разности решений: {np.linalg.norm(x1 - x2)}, Норма неувязки второго решения: {np.linalg.norm(discrepancy1)}\")\n",
    "    print()"
   ],
   "metadata": {
    "collapsed": false,
    "ExecuteTime": {
     "end_time": "2024-02-18T11:35:27.465213445Z",
     "start_time": "2024-02-18T11:35:27.270067065Z"
    }
   }
  }
 ],
 "metadata": {
  "kernelspec": {
   "display_name": "Python 3",
   "language": "python",
   "name": "python3"
  },
  "language_info": {
   "codemirror_mode": {
    "name": "ipython",
    "version": 2
   },
   "file_extension": ".py",
   "mimetype": "text/x-python",
   "name": "python",
   "nbconvert_exporter": "python",
   "pygments_lexer": "ipython2",
   "version": "2.7.6"
  }
 },
 "nbformat": 4,
 "nbformat_minor": 0
}
