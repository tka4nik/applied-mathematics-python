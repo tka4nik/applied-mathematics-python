{
 "cells": [
  {
   "cell_type": "code",
   "execution_count": 1,
   "metadata": {
    "collapsed": true,
    "ExecuteTime": {
     "end_time": "2024-01-19T14:03:47.082473016Z",
     "start_time": "2024-01-19T14:03:46.901921663Z"
    }
   },
   "outputs": [],
   "source": [
    "from vispy import app, scene\n",
    "from vispy.geometry import Rect\n",
    "import numpy as np"
   ]
  },
  {
   "cell_type": "code",
   "execution_count": 3,
   "outputs": [],
   "source": [
    "w ,h = 640, 480\n",
    "N = 100\n",
    "dt = 0.1\n",
    "asp = w / h\n",
    "perception = 1/20\n",
    "vrange = (0, 0.1)\n",
    "#                  cohesion       a   v    wall\n",
    "coeffs = np.array([0.05,        0.02, 4,  0.03])\n",
    "# (x,y), (vx, vy), (ax, ay)\n",
    "boids = np.zeros((N, 6), dtype=np.float64)\n",
    "init_boids(boids, asp, vrange)"
   ],
   "metadata": {
    "collapsed": false,
    "ExecuteTime": {
     "end_time": "2024-01-19T14:07:21.493369153Z",
     "start_time": "2024-01-19T14:07:21.449770066Z"
    }
   }
  },
  {
   "cell_type": "code",
   "execution_count": null,
   "outputs": [],
   "source": [
    "def init_boids(boids, asp, vrange):\n"
   ],
   "metadata": {
    "collapsed": false
   }
  }
 ],
 "metadata": {
  "kernelspec": {
   "display_name": "Python 3",
   "language": "python",
   "name": "python3"
  },
  "language_info": {
   "codemirror_mode": {
    "name": "ipython",
    "version": 2
   },
   "file_extension": ".py",
   "mimetype": "text/x-python",
   "name": "python",
   "nbconvert_exporter": "python",
   "pygments_lexer": "ipython2",
   "version": "2.7.6"
  }
 },
 "nbformat": 4,
 "nbformat_minor": 0
}
