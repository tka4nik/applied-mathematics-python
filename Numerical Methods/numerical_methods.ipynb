{
 "cells": [
  {
   "cell_type": "code",
   "execution_count": 5,
   "metadata": {
    "collapsed": true,
    "ExecuteTime": {
     "end_time": "2024-02-04T20:39:26.419306610Z",
     "start_time": "2024-02-04T20:39:26.401054647Z"
    }
   },
   "source": [
    "import numpy as np\n",
    "import matplotlib.pyplot as plt\n",
    "import sympy as sp\n",
    "\n",
    "exact_value = 0.77143\n",
    "\n",
    "def an(n: int):\n",
    "    return 24 / (7 * (n ** 2 + 8 * n + 15))\n"
   ],
   "outputs": []
  },
  {
   "cell_type": "code",
   "execution_count": 6,
   "source": [
    "def count_correct_significant_digits(error, value):\n",
    "    if error > value:\n",
    "        return 0\n",
    "\n",
    "    error_string = str(format(float(error), 'f'))\n",
    "\n",
    "    counter = 0\n",
    "    for digit_error in error_string:\n",
    "        if digit_error.isdigit():\n",
    "            err = float(digit_error)\n",
    "            if err <= 1:\n",
    "                counter += 1\n",
    "            else:\n",
    "                break\n",
    "    return counter"
   ],
   "metadata": {
    "collapsed": false,
    "ExecuteTime": {
     "end_time": "2024-02-04T20:39:26.616270941Z",
     "start_time": "2024-02-04T20:39:26.596493927Z"
    }
   },
   "outputs": []
  },
  {
   "cell_type": "code",
   "execution_count": 7,
   "source": [
    "def calculate_error(N: int, exact_value: float):\n",
    "    partial_sum = 0\n",
    "    for i in range(1, N):\n",
    "        partial_sum += an(i)\n",
    "    error = np.abs(exact_value - partial_sum)\n",
    "\n",
    "    correct_numbers = count_correct_significant_digits(error, exact_value)\n",
    "    return partial_sum, error, correct_numbers"
   ],
   "metadata": {
    "collapsed": false,
    "ExecuteTime": {
     "end_time": "2024-02-04T20:39:26.807137314Z",
     "start_time": "2024-02-04T20:39:26.750114404Z"
    }
   },
   "outputs": []
  },
  {
   "cell_type": "code",
   "execution_count": 8,
   "source": [
    "M_array = []\n",
    "N_array = []\n",
    "for N in [10, 10 ** 2, 10 ** 3, 10 ** 4, 10 ** 5]:\n",
    "    data = calculate_error(N, exact_value)\n",
    "    M_array.append(data[2])\n",
    "    N_array.append(N)\n",
    "    print(f\"S({N}) = {data[0]}, d({N}) = {data[1]}, M = {data[2]}\")"
   ],
   "metadata": {
    "collapsed": false,
    "ExecuteTime": {
     "end_time": "2024-02-04T20:39:26.984242347Z",
     "start_time": "2024-02-04T20:39:26.888757539Z"
    }
   },
   "outputs": []
  },
  {
   "cell_type": "code",
   "execution_count": 9,
   "source": [
    "plt.bar(M_array, (M_array + [0])[0:-1])\n",
    "plt.xticks((M_array + [0])[0:-1], N_array)\n",
    "plt.title(\"Гистограмма количества верных цифр к размеру частичной суммы\")"
   ],
   "metadata": {
    "collapsed": false,
    "ExecuteTime": {
     "end_time": "2024-02-04T20:39:27.413212081Z",
     "start_time": "2024-02-04T20:39:27.023986240Z"
    }
   },
   "outputs": []
  },
  {
   "cell_type": "code",
   "execution_count": 12,
   "source": [
    "delta = 0.01\n",
    "a1, a2, a3, a4, a5 = sp.symbols(\"a1 a2 a3 a4 a5\")\n",
    "matrix_a = sp.Matrix([\n",
    "    [a1, 1, a5],\n",
    "    [5, a2, 15],\n",
    "    [a4, 5, a3]\n",
    "])\n",
    "print(f\"Exact determinant: {matrix_a.det().subs([(a1, 3), (a2, 3), (a3, 40), (a4, 11), (a5, 13)])}\")\n",
    "\n",
    "exact_determinant = matrix_a.det().subs([(a1, 3), (a2, 3), (a3, 40), (a4, 11), (a5, 13)])\n",
    "\n",
    "for case in [1 + delta, 1 - delta]:\n",
    "    for aii, i in zip([a1, a2, a3, a4, a5], [(0, 0), (1, 1), (2, 2), (0, 2), (2, 0)]):\n",
    "        new_matrix = matrix_a.copy()\n",
    "        new_matrix[i[0], i[1]] = new_matrix[i[0], i[1]] * case\n",
    "        determinant = new_matrix.det()\n",
    "\n",
    "        derivative = sp.diff(determinant, aii)\n",
    "\n",
    "        relative_error = ((sp.Abs(derivative) * sp.Abs(aii)) / sp.Abs(determinant))  * delta\n",
    "        absolute_error = relative_error * sp.Abs(aii)\n",
    "\n",
    "        significant_digits = count_correct_significant_digits(absolute_error.subs([(a1, 3), (a2, 3), (a3, 40), (a4, 11), (a5, 13)]), abs(exact_determinant))\n",
    "\n",
    "        print(f\"{aii}: {case}; Relative error = {relative_error.subs([(a1, 3), (a2, 3), (a3, 40), (a4, 11), (a5, 13)])}, Absolute error = {absolute_error.subs([(a1, 3), (a2, 3), (a3, 40), (a4, 11), (a5, 13)])}, True numbers: {significant_digits}\")"
   ],
   "metadata": {
    "collapsed": false,
    "ExecuteTime": {
     "end_time": "2024-02-04T20:40:48.412607511Z",
     "start_time": "2024-02-04T20:40:48.366850320Z"
    }
   },
   "outputs": []
  },
  {
   "cell_type": "code",
   "execution_count": 2,
   "source": [
    "def machine_zero(type):\n",
    "    k = 0\n",
    "    value = type(1)\n",
    "    while value != 0:\n",
    "        value = type(value / 2)\n",
    "        k += 1\n",
    "    print(f\"{type.__name__}: Машинный ноль = 2^-{k}\")\n",
    "\n",
    "\n",
    "def machine_infinity(type):\n",
    "    k = 0\n",
    "    value = type(1)\n",
    "    while value != np.inf:\n",
    "        value = type(value * 2)\n",
    "        k += 1\n",
    "    print(f\"{type.__name__}: Машинная бесконечность = 2^{k}\")\n",
    "\n",
    "\n",
    "def machine_epsilon(type):\n",
    "    k = 0\n",
    "    value = type(1)\n",
    "    while type(1.) + value > type(1.):\n",
    "        value = type(value / 2)\n",
    "        k += 1\n",
    "    print(f\"{type.__name__}: Машинное эпсилон = 2^-{k}\")\n",
    "\n",
    "\n",
    "for my_type in [np.single, np.double, np.longdouble]:\n",
    "    machine_zero(my_type)\n",
    "    machine_infinity(my_type)\n",
    "    machine_epsilon(my_type)\n",
    "    print()"
   ],
   "metadata": {
    "collapsed": false,
    "ExecuteTime": {
     "end_time": "2024-02-04T15:03:38.680036012Z",
     "start_time": "2024-02-04T15:03:38.588531619Z"
    }
   },
   "outputs": []
  },
  {
   "cell_type": "code",
   "execution_count": 3,
   "source": [
    "from itertools import product\n",
    "\n",
    "def inverse_matrix_check(matrix):\n",
    "    print(f'Без погрешности: detA = {np.linalg.det(matrix)}\\n')\n",
    "\n",
    "\n",
    "def inverse_matrix_check_error(matrix, delta):\n",
    "    determinants = []\n",
    "    for j in list(product([-1, 1], repeat=9)):\n",
    "        determinants.append(\n",
    "            np.linalg.det(\n",
    "                matrix * (1 + delta * np.array(j).reshape(3, 3))\n",
    "            )\n",
    "        )\n",
    "\n",
    "    min_determinant, max_determinant = np.min(determinants), np.max(determinants)\n",
    "    print(f'Минимальный определитель = {min_determinant}')\n",
    "    print(f'Максимальный определитель = {max_determinant}')\n",
    "\n",
    "    if min_determinant < 0 < max_determinant:\n",
    "        print(f\"С погрешностью {delta}: определитель может быть 0\\n\")\n",
    "    else:\n",
    "        print(f\"С погрешностью {delta}: определитель не может быть 0\\n\")\n",
    "\n",
    "\n",
    "matrix = np.array([\n",
    "    [3, 1, 13],\n",
    "    [13.4, 11.4, 23],\n",
    "    [5, 3, 15]\n",
    "])\n",
    "inverse_matrix_check(matrix)\n",
    "inverse_matrix_check_error(matrix, 0.05)\n",
    "inverse_matrix_check_error(matrix, 0.1)"
   ],
   "metadata": {
    "collapsed": false,
    "ExecuteTime": {
     "end_time": "2024-02-04T15:16:37.568498712Z",
     "start_time": "2024-02-04T15:16:37.543786302Z"
    }
   },
   "outputs": []
  }
 ],
 "metadata": {
  "kernelspec": {
   "display_name": "Python 3",
   "language": "python",
   "name": "python3"
  },
  "language_info": {
   "codemirror_mode": {
    "name": "ipython",
    "version": 2
   },
   "file_extension": ".py",
   "mimetype": "text/x-python",
   "name": "python",
   "nbconvert_exporter": "python",
   "pygments_lexer": "ipython2",
   "version": "2.7.6"
  }
 },
 "nbformat": 4,
 "nbformat_minor": 0
}
