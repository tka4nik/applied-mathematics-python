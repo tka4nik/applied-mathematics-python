{
 "cells": [
  {
   "metadata": {},
   "cell_type": "code",
   "outputs": [],
   "execution_count": null,
   "source": [
    "def condition_by_t(x, y):\n",
    "    \"\"\"Условия при t=0\"\"\"\n",
    "    return np.cos(3 * x) * np.sin(4 * y)\n",
    "\n",
    "\n",
    "def condition_by_y(U):\n",
    "    \"\"\"Условия при y=0 и y=pi/2\"\"\"\n",
    "    U[:, 0] = 0\n",
    "    U[:, -1] = 0\n",
    "    return U\n",
    "\n",
    "\n",
    "def condition_by_x(U):\n",
    "    \"\"\"Условия при du/dx=0 при x=0 и du/dx=0 при x=pi/3\"\"\"\n",
    "    U[0, :] = U[1, :]\n",
    "    U[nx, :] = U[nx - 1, :]\n",
    "    return U"
   ],
   "id": "80b420fb087716bf"
  },
  {
   "metadata": {
    "ExecuteTime": {
     "end_time": "2024-10-17T12:47:59.944204Z",
     "start_time": "2024-10-17T12:47:59.888614Z"
    }
   },
   "cell_type": "code",
   "source": [
    "import numpy as np\n",
    "import matplotlib.pyplot as plt\n",
    "\n",
    "# Параметры задачи\n",
    "Lx = np.pi\n",
    "Ly = np.pi\n",
    "T = 0.5  # конечное время\n",
    "\n",
    "Nx = 50  # число шагов по x\n",
    "Ny = 50  # число шагов по y\n",
    "Nt = 100  # число шагов по времени\n",
    "\n",
    "dx = Lx / (Nx - 1)\n",
    "dy = Ly / (Ny - 1)\n",
    "dt = T / Nt\n",
    "\n",
    "# Коэффициенты для схемы\n",
    "alpha_x = dt / (dx ** 2)\n",
    "alpha_y = dt / (dy ** 2)\n",
    "\n",
    "# Пространственные сетки\n",
    "x = np.linspace(0, Lx, Nx)\n",
    "y = np.linspace(0, Ly, Ny)\n",
    "t = np.linspace(0, T, Nt)\n",
    "\n",
    "# Начальные условия\n",
    "u = np.zeros((Nx, Ny))\n",
    "\n",
    "# u(x, y, 0) = sin(x) * (1 + 2 * y * cos(x))\n",
    "for i in range(Nx):\n",
    "    for j in range(Ny):\n",
    "        u[i, j] = np.cos(3 * i) * np.sin(4 * j)\n",
    "\n",
    "\n",
    "# Исправление индексации в методе прогонки\n",
    "def solve_tridiagonal(a, b, c, d):\n",
    "    n = len(d)\n",
    "    c_new = np.zeros(n-1)\n",
    "    d_new = np.zeros(n)\n",
    "    x = np.zeros(n)\n",
    "\n",
    "    # Прямой ход прогонки\n",
    "    c_new[0] = c[0] / b[0]\n",
    "    d_new[0] = d[0] / b[0]\n",
    "    \n",
    "    for i in range(1, n-1):\n",
    "        denom = b[i] - a[i-1] * c_new[i-1]\n",
    "        c_new[i] = c[i] / denom\n",
    "        d_new[i] = (d[i] - a[i-1] * d_new[i-1]) / denom\n",
    "\n",
    "    # Обратный ход прогонки\n",
    "    d_new[-1] = (d[-1] - a[-1] * d_new[-2]) / (b[-1] - a[-1] * c_new[-2])\n",
    "    x[-1] = d_new[-1]\n",
    "    for i in range(n-2, -1, -1):\n",
    "        x[i] = d_new[i] - c_new[i] * x[i+1]\n",
    "    \n",
    "    return x\n",
    "\n",
    "# Основной цикл по времени\n",
    "for n in range(1, Nt):\n",
    "    # Шаг 1: Решаем по x при фиксированном y\n",
    "    u_temp = np.copy(u)\n",
    "    for j in range(1, Ny-1):\n",
    "        a = -alpha_x * np.ones(Nx-1)\n",
    "        b = (1 + 2 * alpha_x) * np.ones(Nx)\n",
    "        c = -alpha_x * np.ones(Nx-1)\n",
    "        d = u_temp[:, j]\n",
    "\n",
    "\n",
    "        u[:, j] = solve_tridiagonal(a, b, c, d)\n",
    "    u[0, :] = u[1, :]\n",
    "    u[Nx, :] = u[Nx - 1, :]\n",
    "\n",
    "    # Шаг 2: Решаем по y при фиксированном x\n",
    "    u_temp = np.copy(u)\n",
    "    for i in range(1, Nx-1):\n",
    "        a = -alpha_y * np.ones(Ny-1)\n",
    "        b = (1 + 2 * alpha_y) * np.ones(Ny)\n",
    "        c = -alpha_y * np.ones(Ny-1)\n",
    "        d = u_temp[i, :]\n",
    "\n",
    "        # Граничные условия для y\n",
    "\n",
    "        u[i, :] = solve_tridiagonal(a, b, c, d)\n",
    "    u[:, 0] = 0\n",
    "    u[:, -1] = 0\n",
    "\n",
    "# Построение графика решения для фиксированного времени\n",
    "X, Y = np.meshgrid(x, y)\n",
    "plt.figure(figsize=(8, 6))\n",
    "plt.contourf(X, Y, u.T, 20)\n",
    "plt.colorbar(label='u(x, y)')\n",
    "plt.title('Решение уравнения теплопроводности для фиксированного времени')\n",
    "plt.xlabel('x')\n",
    "plt.ylabel('y')\n",
    "plt.show()\n",
    "\n",
    "u\n"
   ],
   "id": "e9c4792bcc5a9bbc",
   "outputs": [
    {
     "ename": "IndexError",
     "evalue": "index 50 is out of bounds for axis 0 with size 50",
     "output_type": "error",
     "traceback": [
      "\u001B[0;31m---------------------------------------------------------------------------\u001B[0m",
      "\u001B[0;31mIndexError\u001B[0m                                Traceback (most recent call last)",
      "Cell \u001B[0;32mIn[4], line 72\u001B[0m\n\u001B[1;32m     70\u001B[0m     u[:, j] \u001B[38;5;241m=\u001B[39m solve_tridiagonal(a, b, c, d)\n\u001B[1;32m     71\u001B[0m u[\u001B[38;5;241m0\u001B[39m, :] \u001B[38;5;241m=\u001B[39m u[\u001B[38;5;241m1\u001B[39m, :]\n\u001B[0;32m---> 72\u001B[0m \u001B[43mu\u001B[49m\u001B[43m[\u001B[49m\u001B[43mNx\u001B[49m\u001B[43m,\u001B[49m\u001B[43m \u001B[49m\u001B[43m:\u001B[49m\u001B[43m]\u001B[49m \u001B[38;5;241m=\u001B[39m u[Nx \u001B[38;5;241m-\u001B[39m \u001B[38;5;241m1\u001B[39m, :]\n\u001B[1;32m     74\u001B[0m \u001B[38;5;66;03m# Шаг 2: Решаем по y при фиксированном x\u001B[39;00m\n\u001B[1;32m     75\u001B[0m u_temp \u001B[38;5;241m=\u001B[39m np\u001B[38;5;241m.\u001B[39mcopy(u)\n",
      "\u001B[0;31mIndexError\u001B[0m: index 50 is out of bounds for axis 0 with size 50"
     ]
    }
   ],
   "execution_count": 4
  },
  {
   "metadata": {
    "ExecuteTime": {
     "end_time": "2024-10-17T12:31:12.743633Z",
     "start_time": "2024-10-17T12:31:12.741405Z"
    }
   },
   "cell_type": "code",
   "source": "",
   "id": "b93e3a4ad0819e6f",
   "outputs": [],
   "execution_count": null
  },
  {
   "metadata": {
    "ExecuteTime": {
     "end_time": "2024-10-17T12:31:12.812719Z",
     "start_time": "2024-10-17T12:31:12.809578Z"
    }
   },
   "cell_type": "code",
   "source": "",
   "id": "6751af3bef57322",
   "outputs": [],
   "execution_count": null
  },
  {
   "metadata": {
    "ExecuteTime": {
     "end_time": "2024-10-17T12:31:12.888922Z",
     "start_time": "2024-10-17T12:31:12.886700Z"
    }
   },
   "cell_type": "code",
   "source": "",
   "id": "ebdf9b99cf3910c6",
   "outputs": [],
   "execution_count": null
  },
  {
   "metadata": {},
   "cell_type": "code",
   "outputs": [],
   "execution_count": null,
   "source": "",
   "id": "6e21f98e69bc5498"
  }
 ],
 "metadata": {
  "kernelspec": {
   "display_name": "Python 3",
   "language": "python",
   "name": "python3"
  },
  "language_info": {
   "codemirror_mode": {
    "name": "ipython",
    "version": 2
   },
   "file_extension": ".py",
   "mimetype": "text/x-python",
   "name": "python",
   "nbconvert_exporter": "python",
   "pygments_lexer": "ipython2",
   "version": "2.7.6"
  }
 },
 "nbformat": 4,
 "nbformat_minor": 5
}
