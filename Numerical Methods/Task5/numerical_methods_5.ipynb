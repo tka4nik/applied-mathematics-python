{
 "cells": [
  {
   "cell_type": "code",
   "id": "initial_id",
   "metadata": {
    "collapsed": true,
    "ExecuteTime": {
     "end_time": "2024-06-02T16:02:21.996779Z",
     "start_time": "2024-06-02T16:02:21.462835Z"
    }
   },
   "source": [
    "import numpy as np\n",
    "import matplotlib.pyplot as plt"
   ],
   "execution_count": 1,
   "outputs": []
  },
  {
   "metadata": {},
   "cell_type": "markdown",
   "source": "## 9.1.21, 9.4.7, 9.5.21, 9.6.21",
   "id": "167496f80d20eb96"
  },
  {
   "metadata": {},
   "cell_type": "markdown",
   "source": "# ======================= 9.1.21  =======================",
   "id": "b25483df1005687d"
  },
  {
   "metadata": {
    "ExecuteTime": {
     "end_time": "2024-06-02T16:02:22.443948Z",
     "start_time": "2024-06-02T16:02:22.438993Z"
    }
   },
   "cell_type": "code",
   "source": [
    "def newton_method(f, df, ddf, x0, epsilon=1e-6, max_iter=1000):\n",
    "    x_n = x0\n",
    "    for iterations in range(max_iter):\n",
    "        f_prime = df(x_n)\n",
    "        f_double_prime = ddf(x_n)\n",
    "        if abs(f_double_prime) < np.finfo(float).eps:\n",
    "            raise ValueError(\"Вторая производная слишком мала, деление на ноль\")\n",
    "        x_n1 = x_n - f_prime / f_double_prime\n",
    "        if abs(x_n1 - x_n) < epsilon:\n",
    "            return x_n1, iterations\n",
    "        x_n = x_n1\n",
    "    raise ValueError(\"Метод не сошелся за максимальное количество итераций\")"
   ],
   "id": "82c075cd5a3ea69f",
   "execution_count": 2,
   "outputs": []
  },
  {
   "metadata": {
    "ExecuteTime": {
     "end_time": "2024-06-02T16:02:25.362960Z",
     "start_time": "2024-06-02T16:02:25.358581Z"
    }
   },
   "cell_type": "code",
   "source": [
    "f = lambda x: x**5 - 5**x\n",
    "df = lambda x: 5*x**4 - 5**x*np.log(5)\n",
    "ddf = lambda x: 20*x**3 - 5**x*np.log(5)*np.log(5)\n",
    "\n",
    "a, b = 0.5, 1.5\n",
    "x0 = 1  # начальное приближение\n",
    "epsilon = 1e-6\n",
    "\n",
    "x_min, n = newton_method(f, df, ddf, x0, epsilon)\n",
    "print(f\"Минимум функции достигается в точке x = {x_min}, найдет за {n} итераций.\")\n"
   ],
   "id": "691c6e24d85c1285",
   "execution_count": 3,
   "outputs": []
  },
  {
   "metadata": {},
   "cell_type": "markdown",
   "source": "# ======================= 9.4.7 =======================\n",
   "id": "d754bb9d15551f09"
  },
  {
   "metadata": {
    "ExecuteTime": {
     "end_time": "2024-05-27T12:54:50.500571Z",
     "start_time": "2024-05-27T12:54:50.493968Z"
    }
   },
   "cell_type": "code",
   "source": [
    "def f(x, n):\n",
    "    return ((-1)**n) * np.cos(2 * n * x) / n**(5/2)\n",
    "\n",
    "def partial_sum(x, N=350):\n",
    "    return sum(f(x, n) for n in range(1, N + 1))\n",
    "\n",
    "def func_to_optimize(x):\n",
    "    return partial_sum(x)"
   ],
   "id": "96534c306aa30bc6",
   "execution_count": 18,
   "outputs": []
  },
  {
   "metadata": {
    "ExecuteTime": {
     "end_time": "2024-05-27T12:54:50.853161Z",
     "start_time": "2024-05-27T12:54:50.634471Z"
    }
   },
   "cell_type": "code",
   "source": [
    "a, b = 0, 4\n",
    "x_values = np.linspace(a, b, 1000)\n",
    "y_values = partial_sum(x_values)\n",
    "\n",
    "plt.plot(x_values, y_values)\n",
    "plt.title('График функции f(x) на интервале [0, 4]')\n",
    "plt.xlabel('x')\n",
    "plt.ylabel('f(x)')\n",
    "plt.grid(True)\n",
    "plt.show()"
   ],
   "id": "86f570648c73669d",
   "execution_count": 19,
   "outputs": []
  },
  {
   "metadata": {
    "ExecuteTime": {
     "end_time": "2024-05-27T12:54:50.861166Z",
     "start_time": "2024-05-27T12:54:50.855468Z"
    }
   },
   "cell_type": "code",
   "source": [
    "def golden_section_search(f, a, b, eps=1e-4):\n",
    "    golden_ratio_inverted = 2 / (1 + np.sqrt(5))\n",
    "    c = b - golden_ratio_inverted / (b - a) \n",
    "    d = a + golden_ratio_inverted / (b - a) \n",
    "    while abs(c - d) > eps:\n",
    "        if f(c) < f(d):\n",
    "            b = d\n",
    "        else:\n",
    "            a = c\n",
    "        c = b - golden_ratio_inverted / (b - a)\n",
    "        d = a + golden_ratio_inverted / (b - a)\n",
    "    return (b + a) / 2"
   ],
   "id": "352237947fe26145",
   "execution_count": 20,
   "outputs": []
  },
  {
   "metadata": {
    "ExecuteTime": {
     "end_time": "2024-05-27T12:54:51.117784Z",
     "start_time": "2024-05-27T12:54:51.020548Z"
    }
   },
   "cell_type": "code",
   "source": [
    "minimum = golden_section_search(func_to_optimize, a, b)\n",
    "maximum = golden_section_search(lambda x: -func_to_optimize(x), a, b)\n",
    "\n",
    "print(f\"Минимум функции достигается в точке x = {minimum} со значением f(x) = {func_to_optimize(minimum)}\")\n",
    "print(f\"Максимум функции достигается в точке x = {maximum} со значением f(x) = {func_to_optimize(maximum)}\")"
   ],
   "id": "4318d6269e3f8832",
   "execution_count": 21,
   "outputs": []
  },
  {
   "metadata": {},
   "cell_type": "markdown",
   "source": "# ======================= 9.5.21 =======================\n",
   "id": "e477e7c3a89a3a95"
  },
  {
   "metadata": {
    "ExecuteTime": {
     "end_time": "2024-06-02T16:49:57.146634Z",
     "start_time": "2024-06-02T16:49:56.850392Z"
    }
   },
   "cell_type": "code",
   "source": [
    "from scipy.optimize import minimize\n",
    "\n",
    "def f(xy):\n",
    "    x, y = xy\n",
    "    return x**2 + 3*y**2 + np.sin(x - y + 3)\n",
    "\n",
    "x = np.linspace(-2, 2, 400)\n",
    "y = np.linspace(-2, 2, 400)\n",
    "X, Y = np.meshgrid(x, y)\n",
    "Z = f([X, Y])\n"
   ],
   "id": "4d4c2551960a2513",
   "execution_count": 4,
   "outputs": []
  },
  {
   "metadata": {
    "ExecuteTime": {
     "end_time": "2024-05-27T13:10:50.111942Z",
     "start_time": "2024-05-27T13:10:48.919518Z"
    }
   },
   "cell_type": "code",
   "source": [
    "# 3D график функции\n",
    "fig = plt.figure(figsize=(14, 6))\n",
    "ax = fig.add_subplot(121, projection='3d')\n",
    "ax.plot_surface(X, Y, Z, cmap='viridis')\n",
    "ax.set_title('График функции f(x, y)')\n",
    "ax.set_xlabel('x')\n",
    "ax.set_ylabel('y')\n",
    "ax.set_zlabel('f(x, y)')\n",
    "\n",
    "# Контурный график поверхностей уровня\n",
    "ax2 = fig.add_subplot(122)\n",
    "contour = ax2.contour(X, Y, Z, 20, cmap='viridis')\n",
    "ax2.set_title('Поверхности уровня функции f(x, y)')\n",
    "ax2.set_xlabel('x')\n",
    "ax2.set_ylabel('y')\n",
    "fig.colorbar(contour, ax=ax2)\n",
    "\n",
    "plt.show()"
   ],
   "id": "fb51d421e08a9a4f",
   "execution_count": 24,
   "outputs": []
  },
  {
   "metadata": {
    "ExecuteTime": {
     "end_time": "2024-05-27T13:10:50.124188Z",
     "start_time": "2024-05-27T13:10:50.114216Z"
    }
   },
   "cell_type": "code",
   "source": [
    "initial_guess = [0, 0]\n",
    "result = minimize(f, initial_guess, bounds=[(-2, 2), (-2, 2)], tol=1e-6)\n",
    "\n",
    "if result.success:\n",
    "    print(f\"Минимум функции достигается в точке x = {result.x[0]}, y = {result.x[1]} со значением f(x, y) = {result.fun}\")\n",
    "else:\n",
    "    print(\"Минимум функции не найден.\")\n"
   ],
   "id": "f5d5d82659ef3657",
   "execution_count": 25,
   "outputs": []
  },
  {
   "metadata": {},
   "cell_type": "markdown",
   "source": "# ======================= 9.6.21 =======================\n",
   "id": "9e7deb1840dad92c"
  },
  {
   "metadata": {
    "ExecuteTime": {
     "end_time": "2024-06-02T16:49:59.666494Z",
     "start_time": "2024-06-02T16:49:59.663246Z"
    }
   },
   "cell_type": "code",
   "source": [
    "def f(x):\n",
    "    x1, x2 = x\n",
    "    return 4*x1**2 + 0.5*x1*x2 + 0.5*x2**2 + 6.5*x1 - 2.5*x2\n",
    "\n",
    "def df_dx1(x):\n",
    "    x1, x2 = x\n",
    "    return 8*x1 + 0.5*x2 + 6.5\n",
    "\n",
    "def df_dx2(x):\n",
    "    x1, x2 = x\n",
    "    return 0.5*x1 + x2 - 2.5\n",
    "\n",
    "def d2f_dx1(x):\n",
    "    return 8\n",
    "\n",
    "def d2f_dx2(x):\n",
    "    return 1"
   ],
   "id": "2cd057cb2385de2e",
   "execution_count": 5,
   "outputs": []
  },
  {
   "metadata": {
    "ExecuteTime": {
     "end_time": "2024-06-02T16:50:00.502372Z",
     "start_time": "2024-06-02T16:50:00.497700Z"
    }
   },
   "cell_type": "code",
   "source": [
    "def coordinate_descent(f, x0, tol=1e-6, max_iter=1000):\n",
    "    x = np.array(x0, dtype=float)\n",
    "    iterations = 0\n",
    "    for iterations in range(max_iter):\n",
    "        x_old = np.copy(x)\n",
    "\n",
    "        # Минимизация по x1\n",
    "        x1_minimization_function = lambda x1: f([x1, x[1]])\n",
    "        df_x1_minimization = lambda x1: df_dx1([x1, x[1]])\n",
    "        x[0], iterations_1 = newton_method(x1_minimization_function, df_x1_minimization, d2f_dx1, x[0])\n",
    "\n",
    "        # Минимизация по x2\n",
    "        x2_minimization_function = lambda x2: f([x[0], x2])\n",
    "        df_x2_minimization = lambda x2: df_dx2([x[0], x2])\n",
    "        x[1], iter2 = newton_method(x2_minimization_function, df_x2_minimization, d2f_dx2, x[1])\n",
    "\n",
    "        if np.linalg.norm(x - x_old) < tol:\n",
    "            break\n",
    "\n",
    "    return x, iterations"
   ],
   "id": "f97e8b59f784ed31",
   "execution_count": 6,
   "outputs": []
  },
  {
   "metadata": {
    "ExecuteTime": {
     "end_time": "2024-06-02T16:50:01.545077Z",
     "start_time": "2024-06-02T16:50:01.540292Z"
    }
   },
   "cell_type": "code",
   "source": [
    "minimum, num_iterations = coordinate_descent(f, [0, 0], tol=1e-6)\n",
    "print(f\"Минимум функции достигается в точке x1 = {minimum[0]}, x2 = {minimum[1]} со значением f(x) = {f(minimum)}\")\n",
    "print(f\"Количество итераций: {num_iterations}\")\n"
   ],
   "id": "686865c34b46b2e2",
   "execution_count": 7,
   "outputs": []
  },
  {
   "metadata": {
    "ExecuteTime": {
     "end_time": "2024-06-02T16:51:09.533554Z",
     "start_time": "2024-06-02T16:51:09.059343Z"
    }
   },
   "cell_type": "code",
   "source": [
    "# Построение графика функции\n",
    "x1 = np.linspace(-2, 0, 400)\n",
    "x2 = np.linspace(2, 4, 400)\n",
    "X1, X2 = np.meshgrid(x1, x2)\n",
    "Z = f([X1, X2])\n",
    "\n",
    "fig = plt.figure(figsize=(10, 6))\n",
    "ax = fig.add_subplot(111, projection='3d')\n",
    "ax.plot_surface(X1, X2, Z, cmap='viridis')\n",
    "ax.set_title('График функции f(x1, x2)')\n",
    "ax.set_xlabel('x1')\n",
    "ax.set_ylabel('x2')\n",
    "ax.set_zlabel('f(x1, x2)')\n",
    "plt.show()"
   ],
   "id": "f3c07b8f852415ac",
   "execution_count": 11,
   "outputs": []
  },
  {
   "metadata": {
    "ExecuteTime": {
     "end_time": "2024-06-02T16:50:40.555075Z",
     "start_time": "2024-06-02T16:50:40.553167Z"
    }
   },
   "cell_type": "code",
   "source": "",
   "id": "3e6771540d0d1fe9",
   "execution_count": 9,
   "outputs": []
  },
  {
   "metadata": {},
   "cell_type": "code",
   "execution_count": null,
   "source": "",
   "id": "f62988eb8a73b0c3",
   "outputs": []
  }
 ],
 "metadata": {
  "kernelspec": {
   "display_name": "Python 3",
   "language": "python",
   "name": "python3"
  },
  "language_info": {
   "codemirror_mode": {
    "name": "ipython",
    "version": 2
   },
   "file_extension": ".py",
   "mimetype": "text/x-python",
   "name": "python",
   "nbconvert_exporter": "python",
   "pygments_lexer": "ipython2",
   "version": "2.7.6"
  }
 },
 "nbformat": 4,
 "nbformat_minor": 5
}
